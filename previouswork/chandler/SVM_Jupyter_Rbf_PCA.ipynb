{
 "cells": [
  {
   "cell_type": "code",
   "execution_count": 1,
   "metadata": {
    "collapsed": true
   },
   "outputs": [],
   "source": [
    "import pandas as pd\n",
    "import numpy as np\n",
    "from sklearn.svm import SVC"
   ]
  },
  {
   "cell_type": "code",
   "execution_count": 2,
   "metadata": {
    "collapsed": true
   },
   "outputs": [],
   "source": [
    "class DataLoader:\n",
    "    def __init__(self, path):\n",
    "        self.path = path\n",
    "        # print('in DataLoader')\n",
    "\n",
    "    def loader(self):\n",
    "        # print('Loading data.')\n",
    "        file = pd.read_csv(self.path)\n",
    "        # print('Finish loading')\n",
    "        return file"
   ]
  },
  {
   "cell_type": "code",
   "execution_count": 3,
   "metadata": {
    "collapsed": true
   },
   "outputs": [],
   "source": [
    "data = DataLoader(path='C://Users/pc/Documents/SOTON/GitHub/adml_dataminer/chandler/data_3.csv')\n",
    "all_data = data.loader()\n",
    "# train_data = all_data[0:59381]\n",
    "# train_data.to_csv('C://Users/pc/Documents/SOTON/GitHub/adml_dataminer/chandler/complete_train.csv')"
   ]
  },
  {
   "cell_type": "code",
   "execution_count": 4,
   "metadata": {
    "collapsed": false
   },
   "outputs": [],
   "source": [
    "from sklearn.decomposition import PCA\n",
    "pca = PCA(n_components=20)\n",
    "# Scale and transform data to get Principal Components\n",
    "new_data = pca.fit_transform(all_data)\n",
    "# Variance (% cumulative) explained by the principal components\n",
    "pca_score = pca.explained_variance_ratio_"
   ]
  },
  {
   "cell_type": "code",
   "execution_count": 5,
   "metadata": {
    "collapsed": false
   },
   "outputs": [
    {
     "data": {
      "text/plain": [
       "(79146, 20)"
      ]
     },
     "execution_count": 5,
     "metadata": {},
     "output_type": "execute_result"
    }
   ],
   "source": [
    "pca_score\n",
    "new_data.shape"
   ]
  },
  {
   "cell_type": "code",
   "execution_count": 7,
   "metadata": {
    "collapsed": false
   },
   "outputs": [
    {
     "data": {
      "text/plain": [
       "array([[ -6.36641823e+00,  -1.69878656e-04,  -6.09532236e-04, ...,\n",
       "          4.18563241e-05,   4.68943127e-05,  -2.53163925e-05],\n",
       "       [ -6.36616093e+00,  -1.08762428e-03,   4.03916199e-05, ...,\n",
       "         -1.15213531e-04,   6.47148705e-05,   1.96498027e-04],\n",
       "       [ -6.36590363e+00,  -6.13099464e-04,   3.09419135e-04, ...,\n",
       "          7.73345080e-06,  -3.08618340e-05,   1.03035619e-04],\n",
       "       ..., \n",
       "       [ -1.28169849e+00,   6.36999216e-04,   2.12687018e-04, ...,\n",
       "         -1.48787309e-04,   5.45247025e-05,   3.01887630e-04],\n",
       "       [ -1.28144119e+00,   4.36890665e-04,   5.86419865e-04, ...,\n",
       "         -6.05488535e-05,  -7.92275742e-05,   4.58364120e-05],\n",
       "       [ -1.28118389e+00,   3.35866179e-04,   4.76679356e-04, ...,\n",
       "         -4.62118354e-05,  -1.39093792e-05,   2.41520694e-05]])"
      ]
     },
     "execution_count": 7,
     "metadata": {},
     "output_type": "execute_result"
    }
   ],
   "source": [
    "def feature_scale(df):\n",
    "    scale_df = (df - df.mean()) / df.std(ddof=1)\n",
    "    return scale_df\n",
    "\n",
    "\n",
    "new_data = feature_scale(new_data)\n",
    "new_data"
   ]
  },
  {
   "cell_type": "code",
   "execution_count": 8,
   "metadata": {
    "collapsed": false
   },
   "outputs": [
    {
     "data": {
      "text/plain": [
       "numpy.ndarray"
      ]
     },
     "execution_count": 8,
     "metadata": {},
     "output_type": "execute_result"
    }
   ],
   "source": [
    "all_data = new_data\n",
    "train_data = all_data[0:59381]\n",
    "train_data.shape\n",
    "type(train_data)"
   ]
  },
  {
   "cell_type": "code",
   "execution_count": 9,
   "metadata": {
    "collapsed": false
   },
   "outputs": [
    {
     "name": "stdout",
     "output_type": "stream",
     "text": [
      "(59381, 20) (59381,)\n"
     ]
    }
   ],
   "source": [
    "# train = DataLoader(path='C://Users/pc/Documents/SOTON/GitHub/adml_dataminer/chandler/complete_train.csv')\n",
    "# train_data= train.loader()\n",
    "# print(train_data)\n",
    "# SVM\n",
    "# cols = train_data.columns  # features\n",
    "# transfer dataframe to matrix\n",
    "# train_data = train_data[list(cols)].values\n",
    "# X = train_data[0:, 1:]\n",
    "X = train_data\n",
    "y = DataLoader(path='C://Users/pc/Documents/SOTON/GitHub/adml_dataminer/chandler/train.csv')\n",
    "y = y.loader()\n",
    "cols = y.columns\n",
    "y = y[list(cols)].values\n",
    "y = y[0:, -1]\n",
    "y = np.int64(y)\n",
    "print(X.shape, y.shape)"
   ]
  },
  {
   "cell_type": "code",
   "execution_count": 15,
   "metadata": {
    "collapsed": false
   },
   "outputs": [
    {
     "data": {
      "text/plain": [
       "SVC(C=1, cache_size=200, class_weight=None, coef0=0.0,\n",
       "  decision_function_shape=None, degree=3, gamma='auto', kernel='rbf',\n",
       "  max_iter=-1, probability=False, random_state=None, shrinking=True,\n",
       "  tol=0.001, verbose=False)"
      ]
     },
     "execution_count": 15,
     "metadata": {},
     "output_type": "execute_result"
    }
   ],
   "source": [
    "X_train = X\n",
    "y_train = y\n",
    "clf_3 = SVC(C=1, kernel='rbf')  \n",
    "clf_3.fit(X_train,y_train)"
   ]
  },
  {
   "cell_type": "code",
   "execution_count": 7,
   "metadata": {
    "collapsed": false
   },
   "outputs": [
    {
     "name": "stdout",
     "output_type": "stream",
     "text": [
      "0\n",
      "6\n"
     ]
    }
   ],
   "source": [
    "X_train = X\n",
    "y_train = y\n",
    "clf_0 = SVC(C=0.001, kernel='rbf')\n",
    "clf_0.fit(X_train,y_train)\n",
    "print('0')\n",
    "clf_1 = SVC(C=0.01, kernel='rbf')\n",
    "clf_1.fit(X_train,y_train)\n",
    "clf_2 = SVC(C=0.1, kernel='rbf')\n",
    "clf_2.fit(X_train,y_train)\n",
    "clf_3 = SVC(C=1, kernel='rbf')\n",
    "clf_3.fit(X_train,y_train)\n",
    "clf_4 = SVC(C=10, kernel='rbf')\n",
    "clf_4.fit(X_train,y_train)\n",
    "clf_5 = SVC(C=100, kernel='rbf')\n",
    "clf_5.fit(X_train,y_train)\n",
    "clf_6 = SVC(C=1000, kernel='rbf')\n",
    "clf_6.fit(X_train,y_train)\n",
    "print('6')"
   ]
  },
  {
   "cell_type": "code",
   "execution_count": 11,
   "metadata": {
    "collapsed": false
   },
   "outputs": [
    {
     "data": {
      "text/plain": [
       "(19765, 20)"
      ]
     },
     "execution_count": 11,
     "metadata": {},
     "output_type": "execute_result"
    }
   ],
   "source": [
    "test_data = all_data[59381:]\n",
    "# cols = test_data.columns\n",
    "# test_data = test_data[list(cols)].values\n",
    "# X_test = test_data[:,1:]\n",
    "X_test = test_data\n",
    "X_test.shape"
   ]
  },
  {
   "cell_type": "code",
   "execution_count": 12,
   "metadata": {
    "collapsed": false
   },
   "outputs": [
    {
     "data": {
      "text/plain": [
       "array([[ -6.36641823e+00,   8.40718683e-04,  -2.92614871e-04, ...,\n",
       "          2.31316768e-04,  -1.40498671e-03,   9.89669220e-04],\n",
       "       [ -6.36616093e+00,   3.41974992e-04,  -2.34350476e-04, ...,\n",
       "          2.54310071e-05,   8.22157394e-05,   1.54111251e-04],\n",
       "       [ -6.36590363e+00,   4.37498292e-04,  -2.29294719e-04, ...,\n",
       "          2.17535703e-05,   8.28341676e-05,   2.11396604e-04],\n",
       "       ..., \n",
       "       [ -1.28169849e+00,   6.36999216e-04,   2.12687018e-04, ...,\n",
       "         -1.48787309e-04,   5.45247025e-05,   3.01887630e-04],\n",
       "       [ -1.28144119e+00,   4.36890665e-04,   5.86419865e-04, ...,\n",
       "         -6.05488535e-05,  -7.92275742e-05,   4.58364120e-05],\n",
       "       [ -1.28118389e+00,   3.35866179e-04,   4.76679356e-04, ...,\n",
       "         -4.62118354e-05,  -1.39093792e-05,   2.41520694e-05]])"
      ]
     },
     "execution_count": 12,
     "metadata": {},
     "output_type": "execute_result"
    }
   ],
   "source": [
    "test_data"
   ]
  },
  {
   "cell_type": "code",
   "execution_count": 13,
   "metadata": {
    "collapsed": false
   },
   "outputs": [
    {
     "data": {
      "text/html": [
       "<div>\n",
       "<table border=\"1\" class=\"dataframe\">\n",
       "  <thead>\n",
       "    <tr style=\"text-align: right;\">\n",
       "      <th></th>\n",
       "      <th>Id</th>\n",
       "      <th>Response</th>\n",
       "    </tr>\n",
       "  </thead>\n",
       "  <tbody>\n",
       "    <tr>\n",
       "      <th>0</th>\n",
       "      <td>1</td>\n",
       "      <td>1</td>\n",
       "    </tr>\n",
       "    <tr>\n",
       "      <th>1</th>\n",
       "      <td>3</td>\n",
       "      <td>2</td>\n",
       "    </tr>\n",
       "    <tr>\n",
       "      <th>2</th>\n",
       "      <td>4</td>\n",
       "      <td>2</td>\n",
       "    </tr>\n",
       "    <tr>\n",
       "      <th>3</th>\n",
       "      <td>9</td>\n",
       "      <td>8</td>\n",
       "    </tr>\n",
       "    <tr>\n",
       "      <th>4</th>\n",
       "      <td>12</td>\n",
       "      <td>7</td>\n",
       "    </tr>\n",
       "  </tbody>\n",
       "</table>\n",
       "</div>"
      ],
      "text/plain": [
       "   Id  Response\n",
       "0   1         1\n",
       "1   3         2\n",
       "2   4         2\n",
       "3   9         8\n",
       "4  12         7"
      ]
     },
     "execution_count": 13,
     "metadata": {},
     "output_type": "execute_result"
    }
   ],
   "source": [
    "data = DataLoader(path='C://Users/pc/Documents/SOTON/GitHub/adml_dataminer/chandler/submission_kaggle.csv')\n",
    "submission = data.loader()\n",
    "submission.head()"
   ]
  },
  {
   "cell_type": "code",
   "execution_count": 33,
   "metadata": {
    "collapsed": false
   },
   "outputs": [
    {
     "ename": "NameError",
     "evalue": "name 'clf_0' is not defined",
     "output_type": "error",
     "traceback": [
      "\u001b[0;31m---------------------------------------------------------------------------\u001b[0m",
      "\u001b[0;31mNameError\u001b[0m                                 Traceback (most recent call last)",
      "\u001b[0;32m<ipython-input-33-1a666ca842d0>\u001b[0m in \u001b[0;36m<module>\u001b[0;34m()\u001b[0m\n\u001b[0;32m----> 1\u001b[0;31m \u001b[0my_predict\u001b[0m \u001b[1;33m=\u001b[0m \u001b[0mclf_0\u001b[0m\u001b[1;33m.\u001b[0m\u001b[0mpredict\u001b[0m\u001b[1;33m(\u001b[0m\u001b[0mX_test\u001b[0m\u001b[1;33m)\u001b[0m\u001b[1;33m\u001b[0m\u001b[0m\n\u001b[0m\u001b[1;32m      2\u001b[0m \u001b[0my_predict\u001b[0m \u001b[1;33m=\u001b[0m \u001b[0mpd\u001b[0m\u001b[1;33m.\u001b[0m\u001b[0mDataFrame\u001b[0m\u001b[1;33m(\u001b[0m\u001b[0my_predict\u001b[0m\u001b[1;33m)\u001b[0m\u001b[1;33m\u001b[0m\u001b[0m\n\u001b[1;32m      3\u001b[0m \u001b[1;33m\u001b[0m\u001b[0m\n\u001b[1;32m      4\u001b[0m \u001b[0my_predict\u001b[0m\u001b[1;33m[\u001b[0m\u001b[1;34m'Id'\u001b[0m\u001b[1;33m]\u001b[0m \u001b[1;33m=\u001b[0m \u001b[0msubmission\u001b[0m\u001b[1;33m[\u001b[0m\u001b[1;34m'Id'\u001b[0m\u001b[1;33m]\u001b[0m\u001b[1;33m\u001b[0m\u001b[0m\n\u001b[1;32m      5\u001b[0m \u001b[0my_predict\u001b[0m\u001b[1;33m.\u001b[0m\u001b[0mcolumns\u001b[0m \u001b[1;33m=\u001b[0m \u001b[1;33m[\u001b[0m\u001b[1;34m'Response'\u001b[0m\u001b[1;33m,\u001b[0m\u001b[1;34m'Id'\u001b[0m\u001b[1;33m]\u001b[0m\u001b[1;33m\u001b[0m\u001b[0m\n",
      "\u001b[0;31mNameError\u001b[0m: name 'clf_0' is not defined"
     ]
    }
   ],
   "source": [
    "y_predict = clf_0.predict(X_test)\n",
    "y_predict = pd.DataFrame(y_predict)\n",
    "\n",
    "y_predict['Id'] = submission['Id']\n",
    "y_predict.columns = ['Response','Id']\n",
    "y_predict = y_predict[['Id','Response']]\n",
    "\n",
    "#sent to csv file\n",
    "y_predict.to_csv('C://Users/pc/Documents/SOTON/GitHub/adml_dataminer/chandler/submission_file_0.csv', index=False)"
   ]
  },
  {
   "cell_type": "code",
   "execution_count": null,
   "metadata": {
    "collapsed": true
   },
   "outputs": [],
   "source": [
    "y_predict = clf_1.predict(X_test)\n",
    "y_predict = pd.DataFrame(y_predict)\n",
    "\n",
    "y_predict['Id'] = submission['Id']\n",
    "y_predict.columns = ['Response','Id']\n",
    "y_predict = y_predict[['Id','Response']]\n",
    "y_predict.head()\n",
    "y_predict.to_csv('C://Users/pc/Documents/SOTON/GitHub/adml_dataminer/chandler/submission_file_1.csv', index=False)"
   ]
  },
  {
   "cell_type": "code",
   "execution_count": 20,
   "metadata": {
    "collapsed": true
   },
   "outputs": [],
   "source": [
    "y_predict = clf_2.predict(X_test)\n",
    "y_predict = pd.DataFrame(y_predict)\n",
    "\n",
    "y_predict['Id'] = submission['Id']\n",
    "y_predict.columns = ['Response','Id']\n",
    "y_predict = y_predict[['Id','Response']]\n",
    "y_predict.head()\n",
    "y_predict.to_csv('C://Users/pc/Documents/SOTON/GitHub/adml_dataminer/chandler/submission_file_2.csv', index=False)"
   ]
  },
  {
   "cell_type": "code",
   "execution_count": 16,
   "metadata": {
    "collapsed": true
   },
   "outputs": [],
   "source": [
    "y_predict = clf_3.predict(X_test)\n",
    "y_predict = pd.DataFrame(y_predict)\n",
    "\n",
    "y_predict['Id'] = submission['Id']\n",
    "y_predict.columns = ['Response','Id']\n",
    "y_predict = y_predict[['Id','Response']]\n",
    "y_predict.head()\n",
    "y_predict.to_csv('C://Users/pc/Documents/SOTON/GitHub/adml_dataminer/chandler/PCA_Rbf_3.csv', index=False)"
   ]
  },
  {
   "cell_type": "code",
   "execution_count": 14,
   "metadata": {
    "collapsed": true
   },
   "outputs": [],
   "source": [
    "y_predict = clf_4.predict(X_test)\n",
    "y_predict = pd.DataFrame(y_predict)\n",
    "\n",
    "y_predict['Id'] = submission['Id']\n",
    "y_predict.columns = ['Response','Id']\n",
    "y_predict = y_predict[['Id','Response']]\n",
    "y_predict.head()\n",
    "y_predict.to_csv('C://Users/pc/Documents/SOTON/GitHub/adml_dataminer/chandler/PCA_Rbf_4.csv', index=False)"
   ]
  },
  {
   "cell_type": "code",
   "execution_count": 23,
   "metadata": {
    "collapsed": true
   },
   "outputs": [],
   "source": [
    "y_predict = clf_5.predict(X_test)\n",
    "y_predict = pd.DataFrame(y_predict)\n",
    "\n",
    "y_predict['Id'] = submission['Id']\n",
    "y_predict.columns = ['Response','Id']\n",
    "y_predict = y_predict[['Id','Response']]\n",
    "y_predict.head()\n",
    "y_predict.to_csv('C://Users/pc/Documents/SOTON/GitHub/adml_dataminer/chandler/submission_file_5.csv', index=False)"
   ]
  },
  {
   "cell_type": "code",
   "execution_count": 24,
   "metadata": {
    "collapsed": true
   },
   "outputs": [],
   "source": [
    "y_predict = clf_6.predict(X_test)\n",
    "y_predict = pd.DataFrame(y_predict)\n",
    "\n",
    "y_predict['Id'] = submission['Id']\n",
    "y_predict.columns = ['Response','Id']\n",
    "y_predict = y_predict[['Id','Response']]\n",
    "y_predict.head()\n",
    "y_predict.to_csv('C://Users/pc/Documents/SOTON/GitHub/adml_dataminer/chandler/submission_file_6.csv', index=False)"
   ]
  },
  {
   "cell_type": "code",
   "execution_count": null,
   "metadata": {
    "collapsed": true
   },
   "outputs": [],
   "source": []
  }
 ],
 "metadata": {
  "kernelspec": {
   "display_name": "Python 3",
   "language": "python",
   "name": "python3"
  },
  "language_info": {
   "codemirror_mode": {
    "name": "ipython",
    "version": 3
   },
   "file_extension": ".py",
   "mimetype": "text/x-python",
   "name": "python",
   "nbconvert_exporter": "python",
   "pygments_lexer": "ipython3",
   "version": "3.6.0"
  }
 },
 "nbformat": 4,
 "nbformat_minor": 0
}
