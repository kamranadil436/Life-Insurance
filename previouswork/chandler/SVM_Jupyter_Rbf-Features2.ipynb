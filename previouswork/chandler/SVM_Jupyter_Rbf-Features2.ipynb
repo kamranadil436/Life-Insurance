{
 "cells": [
  {
   "cell_type": "code",
   "execution_count": 1,
   "metadata": {
    "collapsed": true
   },
   "outputs": [],
   "source": [
    "import pandas as pd\n",
    "import numpy as np\n",
    "from sklearn.svm import SVC"
   ]
  },
  {
   "cell_type": "code",
   "execution_count": 2,
   "metadata": {
    "collapsed": true
   },
   "outputs": [],
   "source": [
    "class DataLoader:\n",
    "    def __init__(self, path):\n",
    "        self.path = path\n",
    "        # print('in DataLoader')\n",
    "\n",
    "    def loader(self):\n",
    "        # print('Loading data.')\n",
    "        file = pd.read_csv(self.path)\n",
    "        # print('Finish loading')\n",
    "        return file"
   ]
  },
  {
   "cell_type": "code",
   "execution_count": 3,
   "metadata": {
    "collapsed": true
   },
   "outputs": [],
   "source": [
    "data = DataLoader(path='C://Users/pc/Documents/SOTON/GitHub/adml_dataminer/chandler/data_features2.csv')\n",
    "all_data = data.loader()\n",
    "train_data = all_data[0:59381]\n",
    "# train_data.to_csv('C://Users/pc/Documents/SOTON/GitHub/adml_dataminer/chandler/complete_train.csv')"
   ]
  },
  {
   "cell_type": "code",
   "execution_count": 4,
   "metadata": {
    "collapsed": false
   },
   "outputs": [
    {
     "name": "stdout",
     "output_type": "stream",
     "text": [
      "(59381, 121) (59381,)\n"
     ]
    }
   ],
   "source": [
    "# train = DataLoader(path='C://Users/pc/Documents/SOTON/GitHub/adml_dataminer/chandler/complete_train.csv')\n",
    "# train_data= train.loader()\n",
    "# print(train_data)\n",
    "# SVM\n",
    "cols = train_data.columns  # features\n",
    "# transfer dataframe to matrix\n",
    "train_data = train_data[list(cols)].values\n",
    "X = train_data[0:, 1:]\n",
    "y = DataLoader(path='C://Users/pc/Documents/SOTON/GitHub/adml_dataminer/chandler/train.csv')\n",
    "y = y.loader()\n",
    "cols = y.columns\n",
    "y = y[list(cols)].values\n",
    "y = y[0:, -1]\n",
    "y = np.int64(y)\n",
    "print(X.shape, y.shape)"
   ]
  },
  {
   "cell_type": "code",
   "execution_count": 5,
   "metadata": {
    "collapsed": false
   },
   "outputs": [
    {
     "name": "stdout",
     "output_type": "stream",
     "text": [
      "0\n",
      "6\n"
     ]
    }
   ],
   "source": [
    "X_train = X\n",
    "y_train = y\n",
    "# clf_0 = SVC(C=0.001, kernel='rbf')\n",
    "# clf_0.fit(X_train,y_train)\n",
    "clf_1 = SVC(C=0.01, kernel='rbf')\n",
    "clf_1.fit(X_train,y_train)\n",
    "print('0')\n",
    "clf_2 = SVC(C=0.1, kernel='rbf')\n",
    "clf_2.fit(X_train,y_train)\n",
    "clf_3 = SVC(C=1, kernel='rbf')\n",
    "clf_3.fit(X_train,y_train)\n",
    "clf_4 = SVC(C=10, kernel='rbf')\n",
    "clf_4.fit(X_train,y_train)\n",
    "clf_5 = SVC(C=100, kernel='rbf')\n",
    "clf_5.fit(X_train,y_train)\n",
    "# clf_6 = SVC(C=1000, kernel='rbf')\n",
    "# clf_6.fit(X_train,y_train)\n",
    "print('6')"
   ]
  },
  {
   "cell_type": "code",
   "execution_count": 6,
   "metadata": {
    "collapsed": false
   },
   "outputs": [
    {
     "data": {
      "text/plain": [
       "(19765, 121)"
      ]
     },
     "execution_count": 6,
     "metadata": {},
     "output_type": "execute_result"
    }
   ],
   "source": [
    "test_data = all_data[59381:]\n",
    "cols = test_data.columns\n",
    "test_data = test_data[list(cols)].values\n",
    "X_test = test_data[:,1:]\n",
    "X_test.shape"
   ]
  },
  {
   "cell_type": "code",
   "execution_count": 7,
   "metadata": {
    "collapsed": false
   },
   "outputs": [
    {
     "data": {
      "text/html": [
       "<div>\n",
       "<table border=\"1\" class=\"dataframe\">\n",
       "  <thead>\n",
       "    <tr style=\"text-align: right;\">\n",
       "      <th></th>\n",
       "      <th>Id</th>\n",
       "      <th>Response</th>\n",
       "    </tr>\n",
       "  </thead>\n",
       "  <tbody>\n",
       "    <tr>\n",
       "      <th>0</th>\n",
       "      <td>1</td>\n",
       "      <td>1</td>\n",
       "    </tr>\n",
       "    <tr>\n",
       "      <th>1</th>\n",
       "      <td>3</td>\n",
       "      <td>2</td>\n",
       "    </tr>\n",
       "    <tr>\n",
       "      <th>2</th>\n",
       "      <td>4</td>\n",
       "      <td>2</td>\n",
       "    </tr>\n",
       "    <tr>\n",
       "      <th>3</th>\n",
       "      <td>9</td>\n",
       "      <td>8</td>\n",
       "    </tr>\n",
       "    <tr>\n",
       "      <th>4</th>\n",
       "      <td>12</td>\n",
       "      <td>7</td>\n",
       "    </tr>\n",
       "  </tbody>\n",
       "</table>\n",
       "</div>"
      ],
      "text/plain": [
       "   Id  Response\n",
       "0   1         1\n",
       "1   3         2\n",
       "2   4         2\n",
       "3   9         8\n",
       "4  12         7"
      ]
     },
     "execution_count": 7,
     "metadata": {},
     "output_type": "execute_result"
    }
   ],
   "source": [
    "data = DataLoader(path='C://Users/pc/Documents/SOTON/GitHub/adml_dataminer/chandler/submission_kaggle.csv')\n",
    "submission = data.loader()\n",
    "submission.head()"
   ]
  },
  {
   "cell_type": "markdown",
   "metadata": {
    "collapsed": true
   },
   "source": [
    "y_predict = clf_0.predict(X_test)\n",
    "y_predict = pd.DataFrame(y_predict)\n",
    "\n",
    "y_predict['Id'] = submission['Id']\n",
    "y_predict.columns = ['Response','Id']\n",
    "y_predict = y_predict[['Id','Response']]\n",
    "\n",
    "#sent to csv file\n",
    "y_predict.to_csv('C://Users/pc/Documents/SOTON/GitHub/adml_dataminer/chandler/submission_file_0.csv', index=False)"
   ]
  },
  {
   "cell_type": "code",
   "execution_count": 8,
   "metadata": {
    "collapsed": true
   },
   "outputs": [],
   "source": [
    "y_predict = clf_1.predict(X_test)\n",
    "y_predict = pd.DataFrame(y_predict)\n",
    "\n",
    "y_predict['Id'] = submission['Id']\n",
    "y_predict.columns = ['Response','Id']\n",
    "y_predict = y_predict[['Id','Response']]\n",
    "y_predict.head()\n",
    "y_predict.to_csv('C://Users/pc/Documents/SOTON/GitHub/adml_dataminer/chandler/submission_file_features2_1.csv', index=False)"
   ]
  },
  {
   "cell_type": "code",
   "execution_count": 9,
   "metadata": {
    "collapsed": true
   },
   "outputs": [],
   "source": [
    "y_predict = clf_2.predict(X_test)\n",
    "y_predict = pd.DataFrame(y_predict)\n",
    "\n",
    "y_predict['Id'] = submission['Id']\n",
    "y_predict.columns = ['Response','Id']\n",
    "y_predict = y_predict[['Id','Response']]\n",
    "y_predict.head()\n",
    "y_predict.to_csv('C://Users/pc/Documents/SOTON/GitHub/adml_dataminer/chandler/submission_file_features2_2.csv', index=False)"
   ]
  },
  {
   "cell_type": "code",
   "execution_count": 10,
   "metadata": {
    "collapsed": true
   },
   "outputs": [],
   "source": [
    "y_predict = clf_3.predict(X_test)\n",
    "y_predict = pd.DataFrame(y_predict)\n",
    "\n",
    "y_predict['Id'] = submission['Id']\n",
    "y_predict.columns = ['Response','Id']\n",
    "y_predict = y_predict[['Id','Response']]\n",
    "y_predict.head()\n",
    "y_predict.to_csv('C://Users/pc/Documents/SOTON/GitHub/adml_dataminer/chandler/submission_file_features2_3.csv', index=False)"
   ]
  },
  {
   "cell_type": "code",
   "execution_count": 11,
   "metadata": {
    "collapsed": true
   },
   "outputs": [],
   "source": [
    "y_predict = clf_4.predict(X_test)\n",
    "y_predict = pd.DataFrame(y_predict)\n",
    "\n",
    "y_predict['Id'] = submission['Id']\n",
    "y_predict.columns = ['Response','Id']\n",
    "y_predict = y_predict[['Id','Response']]\n",
    "y_predict.head()\n",
    "y_predict.to_csv('C://Users/pc/Documents/SOTON/GitHub/adml_dataminer/chandler/submission_file_features2_4.csv', index=False)"
   ]
  },
  {
   "cell_type": "code",
   "execution_count": 12,
   "metadata": {
    "collapsed": true
   },
   "outputs": [],
   "source": [
    "y_predict = clf_5.predict(X_test)\n",
    "y_predict = pd.DataFrame(y_predict)\n",
    "\n",
    "y_predict['Id'] = submission['Id']\n",
    "y_predict.columns = ['Response','Id']\n",
    "y_predict = y_predict[['Id','Response']]\n",
    "y_predict.head()\n",
    "y_predict.to_csv('C://Users/pc/Documents/SOTON/GitHub/adml_dataminer/chandler/submission_file_features2_5.csv', index=False)"
   ]
  },
  {
   "cell_type": "markdown",
   "metadata": {
    "collapsed": true
   },
   "source": [
    "y_predict = clf_6.predict(X_test)\n",
    "y_predict = pd.DataFrame(y_predict)\n",
    "\n",
    "y_predict['Id'] = submission['Id']\n",
    "y_predict.columns = ['Response','Id']\n",
    "y_predict = y_predict[['Id','Response']]\n",
    "y_predict.head()\n",
    "y_predict.to_csv('C://Users/pc/Documents/SOTON/GitHub/adml_dataminer/chandler/submission_file_6.csv', index=False)"
   ]
  },
  {
   "cell_type": "code",
   "execution_count": null,
   "metadata": {
    "collapsed": true
   },
   "outputs": [],
   "source": []
  }
 ],
 "metadata": {
  "kernelspec": {
   "display_name": "Python 3",
   "language": "python",
   "name": "python3"
  },
  "language_info": {
   "codemirror_mode": {
    "name": "ipython",
    "version": 3
   },
   "file_extension": ".py",
   "mimetype": "text/x-python",
   "name": "python",
   "nbconvert_exporter": "python",
   "pygments_lexer": "ipython3",
   "version": "3.6.0"
  }
 },
 "nbformat": 4,
 "nbformat_minor": 0
}
