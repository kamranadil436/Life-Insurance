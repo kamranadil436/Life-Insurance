{
 "cells": [
  {
   "cell_type": "code",
   "execution_count": 15,
   "metadata": {
    "collapsed": true
   },
   "outputs": [],
   "source": [
    "import pylab as pl\n",
    "import pandas as pd\n",
    "import numpy as np\n",
    "from sklearn.svm import SVC\n",
    "from sklearn.cross_validation import StratifiedKFold\n",
    "from sklearn.grid_search import GridSearchCV"
   ]
  },
  {
   "cell_type": "code",
   "execution_count": 62,
   "metadata": {},
   "outputs": [
    {
     "data": {
      "text/plain": [
       "{'C': array([  1.00000000e-03,   1.00000000e-02,   1.00000000e-01,\n          1.00000000e+00,   1.00000000e+01,   1.00000000e+02]),\n 'gamma': array([  1.00000000e-03,   1.00000000e-02,   1.00000000e-01,\n          1.00000000e+00,   1.00000000e+01,   1.00000000e+02])}"
      ]
     },
     "execution_count": 62,
     "metadata": {},
     "output_type": "execute_result"
    }
   ],
   "source": [
    "C_range = 10.** np.arange(-3,3)\n",
    "gamma_range = 10.**np.arange(-3,3)\n",
    "param_grid = dict(gamma = gamma_range, C = C_range)\n",
    "param_grid"
   ]
  },
  {
   "cell_type": "code",
   "execution_count": 63,
   "metadata": {},
   "outputs": [],
   "source": [
    "grid = GridSearchCV(SVC(), param_grid=param_grid) #exhaustive search over specified parameter values for an estimator"
   ]
  },
  {
   "cell_type": "code",
   "execution_count": 64,
   "metadata": {},
   "outputs": [],
   "source": [
    "class DataLoader:\n",
    "    def __init__(self, path):\n",
    "        self.path = path\n",
    "        # print('in DataLoader')\n",
    "\n",
    "    def loader(self):\n",
    "        # print('Loading data.')\n",
    "        file = pd.read_csv(self.path)\n",
    "        # print('Finish loading')\n",
    "        return file"
   ]
  },
  {
   "cell_type": "code",
   "execution_count": 65,
   "metadata": {},
   "outputs": [],
   "source": [
    "#3. use LinearSVC with L2 C=0.01\n",
    "selected_features =   ['Product_Info_1', 'Product_Info_4', 'Product_Info_5', 'Ins_Age', 'Ht', 'Wt', 'BMI', 'Employment_Info_1', 'InsuredInfo_2',\n",
    " 'InsuredInfo_5', 'Insurance_History_2', 'Family_Hist_2', 'Family_Hist_3', 'Family_Hist_4', 'Family_Hist_5', 'Medical_History_4',\n",
    " 'Medical_History_5', 'Medical_History_17', 'Medical_History_18', 'Medical_History_20', 'Medical_History_26', 'Medical_History_27',\n",
    " 'Medical_History_28', 'Medical_History_30', 'Medical_History_35', 'Medical_History_38', 'Medical_History_40', 'Medical_Keyword_3',\n",
    " 'Medical_Keyword_6', 'Medical_Keyword_9', 'Medical_Keyword_12', 'Medical_Keyword_15', 'Medical_Keyword_35', 'Medical_Keyword_38',\n",
    " 'Medical_Keyword_41', 'Medical_Keyword_45', 'Medical_Keyword_48', 'BMI_Ins_age']\n",
    "data = DataLoader(path='C://Users/pc/Documents/SOTON/GitHub/adml_dataminer/chandler/complete_data.csv')\n",
    "all_data = data.loader()\n",
    "train_data = all_data[0:59381]\n",
    "# print(train_data)\n",
    "# SVM\n",
    "# cols = train_data.columns  # features\n",
    "# transfer dataframe to matrix\n",
    "train_data = train_data[selected_features]\n",
    "# train_data"
   ]
  },
  {
   "cell_type": "code",
   "execution_count": 66,
   "metadata": {
    "collapsed": false
   },
   "outputs": [],
   "source": [
    "cols = train_data.columns\n",
    "X = train_data[list(cols)].values\n",
    "# X"
   ]
  },
  {
   "cell_type": "code",
   "execution_count": 67,
   "metadata": {},
   "outputs": [],
   "source": [
    "y = DataLoader(path='C://Users/pc/Documents/SOTON/GitHub/adml_dataminer/chandler/train.csv')\n",
    "y = y.loader()\n",
    "cols = y.columns\n",
    "y = y[list(cols)].values\n",
    "y = y[0:, -1]\n",
    "y = np.int64(y)\n",
    "# y"
   ]
  },
  {
   "cell_type": "code",
   "execution_count": 68,
   "metadata": {},
   "outputs": [
    {
     "data": {
      "text/plain": [
       "numpy.ndarray"
      ]
     },
     "execution_count": 68,
     "metadata": {},
     "output_type": "execute_result"
    }
   ],
   "source": [
    "type(y)"
   ]
  },
  {
   "cell_type": "code",
   "execution_count": 73,
   "metadata": {},
   "outputs": [
    {
     "name": "stdout",
     "output_type": "stream",
     "text": [
      "(100, 38) (100,)\n"
     ]
    }
   ],
   "source": [
    "X=X[0:100]\n",
    "y=y[0:100]\n",
    "print(X.shape,y.shape)"
   ]
  },
  {
   "cell_type": "code",
   "execution_count": 74,
   "metadata": {},
   "outputs": [
    {
     "name": "stderr",
     "output_type": "stream",
     "text": [
      "C:\\Users\\pc\\Anaconda3\\lib\\site-packages\\sklearn\\cross_validation.py:552: Warning: The least populated class in y has only 2 members, which is too few. The minimum number of labels for any class cannot be less than n_folds=3.\n  % (min_labels, self.n_folds)), Warning)\n"
     ]
    },
    {
     "name": "stdout",
     "output_type": "stream",
     "text": [
      "The best classifier is:  SVC(C=10.0, cache_size=200, class_weight=None, coef0=0.0,\n  decision_function_shape=None, degree=3, gamma=0.001, kernel='rbf',\n  max_iter=-1, probability=False, random_state=None, shrinking=True,\n  tol=0.001, verbose=False)\n"
     ]
    }
   ],
   "source": [
    "grid.fit(X,y)\n",
    "print(\"The best classifier is: \", grid.best_estimator_)"
   ]
  },
  {
   "cell_type": "code",
   "execution_count": 77,
   "metadata": {},
   "outputs": [
    {
     "data": {
      "text/plain": [
       "[mean: 0.28000, std: 0.01457, params: {'C': 0.001, 'gamma': 0.001},\n mean: 0.28000, std: 0.01457, params: {'C': 0.001, 'gamma': 0.01},\n mean: 0.28000, std: 0.01457, params: {'C': 0.001, 'gamma': 0.10000000000000001},\n mean: 0.28000, std: 0.01457, params: {'C': 0.001, 'gamma': 1.0},\n mean: 0.28000, std: 0.01457, params: {'C': 0.001, 'gamma': 10.0},\n mean: 0.28000, std: 0.01457, params: {'C': 0.001, 'gamma': 100.0},\n mean: 0.28000, std: 0.01457, params: {'C': 0.01, 'gamma': 0.001},\n mean: 0.28000, std: 0.01457, params: {'C': 0.01, 'gamma': 0.01},\n mean: 0.28000, std: 0.01457, params: {'C': 0.01, 'gamma': 0.10000000000000001},\n mean: 0.28000, std: 0.01457, params: {'C': 0.01, 'gamma': 1.0},\n mean: 0.28000, std: 0.01457, params: {'C': 0.01, 'gamma': 10.0},\n mean: 0.28000, std: 0.01457, params: {'C': 0.01, 'gamma': 100.0},\n mean: 0.28000, std: 0.01457, params: {'C': 0.10000000000000001, 'gamma': 0.001},\n mean: 0.28000, std: 0.01457, params: {'C': 0.10000000000000001, 'gamma': 0.01},\n mean: 0.28000, std: 0.01457, params: {'C': 0.10000000000000001, 'gamma': 0.10000000000000001},\n mean: 0.28000, std: 0.01457, params: {'C': 0.10000000000000001, 'gamma': 1.0},\n mean: 0.28000, std: 0.01457, params: {'C': 0.10000000000000001, 'gamma': 10.0},\n mean: 0.28000, std: 0.01457, params: {'C': 0.10000000000000001, 'gamma': 100.0},\n mean: 0.28000, std: 0.01457, params: {'C': 1.0, 'gamma': 0.001},\n mean: 0.30000, std: 0.02819, params: {'C': 1.0, 'gamma': 0.01},\n mean: 0.37000, std: 0.01481, params: {'C': 1.0, 'gamma': 0.10000000000000001},\n mean: 0.28000, std: 0.01457, params: {'C': 1.0, 'gamma': 1.0},\n mean: 0.28000, std: 0.01457, params: {'C': 1.0, 'gamma': 10.0},\n mean: 0.28000, std: 0.01457, params: {'C': 1.0, 'gamma': 100.0},\n mean: 0.38000, std: 0.02738, params: {'C': 10.0, 'gamma': 0.001},\n mean: 0.31000, std: 0.03967, params: {'C': 10.0, 'gamma': 0.01},\n mean: 0.32000, std: 0.03882, params: {'C': 10.0, 'gamma': 0.10000000000000001},\n mean: 0.27000, std: 0.02098, params: {'C': 10.0, 'gamma': 1.0},\n mean: 0.28000, std: 0.01457, params: {'C': 10.0, 'gamma': 10.0},\n mean: 0.28000, std: 0.01457, params: {'C': 10.0, 'gamma': 100.0},\n mean: 0.36000, std: 0.07259, params: {'C': 100.0, 'gamma': 0.001},\n mean: 0.29000, std: 0.05023, params: {'C': 100.0, 'gamma': 0.01},\n mean: 0.32000, std: 0.03882, params: {'C': 100.0, 'gamma': 0.10000000000000001},\n mean: 0.27000, std: 0.02098, params: {'C': 100.0, 'gamma': 1.0},\n mean: 0.28000, std: 0.01457, params: {'C': 100.0, 'gamma': 10.0},\n mean: 0.28000, std: 0.01457, params: {'C': 100.0, 'gamma': 100.0}]"
      ]
     },
     "execution_count": 77,
     "metadata": {},
     "output_type": "execute_result"
    }
   ],
   "source": [
    "#plot the scores of the grid\n",
    "score_dict = grid.grid_scores_\n",
    "# score_dict"
   ]
  },
  {
   "cell_type": "code",
   "execution_count": 76,
   "metadata": {},
   "outputs": [
    {
     "data": {
      "image/png": "[encoded data removed]",
      "text/plain": [
       "<matplotlib.figure.Figure at 0x193b47d1f60>"
      ]
     },
     "metadata": {},
     "output_type": "display_data"
    }
   ],
   "source": [
    "# We extract just the scores\n",
    "scores = [x[1] for x in score_dict]\n",
    "scores = np.array(scores).reshape(len(C_range), len(gamma_range))\n",
    "# Make a nice figure\n",
    "pl.figure(figsize=(6, 6))\n",
    "pl.subplots_adjust(left=0.15, right=0.95, bottom=0.15, top=0.95)\n",
    "pl.imshow(scores, interpolation='nearest', cmap=pl.cm.spectral)\n",
    "pl.xlabel('gamma')\n",
    "pl.ylabel('C')\n",
    "pl.colorbar()\n",
    "pl.xticks(np.arange(len(gamma_range)), gamma_range, rotation=45)\n",
    "pl.yticks(np.arange(len(C_range)), C_range)\n",
    "pl.show()"
   ]
  },
  {
   "cell_type": "code",
   "execution_count": null,
   "metadata": {},
   "outputs": [],
   "source": [
    ""
   ]
  }
 ],
 "metadata": {
  "kernelspec": {
   "display_name": "Python 2",
   "language": "python",
   "name": "python2"
  },
  "language_info": {
   "codemirror_mode": {
    "name": "ipython",
    "version": 2.0
   },
   "file_extension": ".py",
   "mimetype": "text/x-python",
   "name": "python",
   "nbconvert_exporter": "python",
   "pygments_lexer": "ipython2",
   "version": "2.7.6"
  }
 },
 "nbformat": 4,
 "nbformat_minor": 0
}