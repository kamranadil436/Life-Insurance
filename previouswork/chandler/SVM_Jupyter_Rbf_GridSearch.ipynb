{
 "cells": [
  {
   "cell_type": "code",
   "execution_count": 6,
   "metadata": {
    "collapsed": true
   },
   "outputs": [],
   "source": [
    "import pandas as pd\n",
    "import numpy as np\n",
    "from sklearn.svm import SVC\n",
    "from sklearn.model_selection import train_test_split\n",
    "from sklearn.model_selection import GridSearchCV\n"
   ]
  },
  {
   "cell_type": "code",
   "execution_count": 2,
   "metadata": {
    "collapsed": true
   },
   "outputs": [],
   "source": [
    "class DataLoader:\n",
    "    def __init__(self, path):\n",
    "        self.path = path\n",
    "        # print('in DataLoader')\n",
    "\n",
    "    def loader(self):\n",
    "        # print('Loading data.')\n",
    "        file = pd.read_csv(self.path)\n",
    "        # print('Finish loading')\n",
    "        return file"
   ]
  },
  {
   "cell_type": "code",
   "execution_count": 3,
   "metadata": {
    "collapsed": true
   },
   "outputs": [],
   "source": [
    "data = DataLoader(path='C://Users/pc/Documents/SOTON/GitHub/adml_dataminer/chandler/data_3.csv')\n",
    "all_data = data.loader()\n",
    "train_data = all_data[0:59381]\n",
    "# train_data.to_csv('C://Users/pc/Documents/SOTON/GitHub/adml_dataminer/chandler/complete_train.csv')"
   ]
  },
  {
   "cell_type": "code",
   "execution_count": 4,
   "metadata": {
    "collapsed": false
   },
   "outputs": [
    {
     "name": "stdout",
     "output_type": "stream",
     "text": [
      "(59381, 38) (59381,)\n"
     ]
    }
   ],
   "source": [
    "# train = DataLoader(path='C://Users/pc/Documents/SOTON/GitHub/adml_dataminer/chandler/complete_train.csv')\n",
    "# train_data= train.loader()\n",
    "# print(train_data)\n",
    "# SVM\n",
    "cols = train_data.columns  # features\n",
    "# transfer dataframe to matrix\n",
    "train_data = train_data[list(cols)].values\n",
    "X = train_data[0:, 1:]\n",
    "y = DataLoader(path='C://Users/pc/Documents/SOTON/GitHub/adml_dataminer/chandler/train.csv')\n",
    "y = y.loader()\n",
    "cols = y.columns\n",
    "y = y[list(cols)].values\n",
    "y = y[0:, -1]\n",
    "y = np.int64(y)\n",
    "print(X.shape, y.shape)"
   ]
  },
  {
   "cell_type": "code",
   "execution_count": 11,
   "metadata": {
    "collapsed": false
   },
   "outputs": [
    {
     "data": {
      "text/plain": [
       "GridSearchCV(cv=5, error_score='raise',\n",
       "       estimator=SVC(C=1, cache_size=200, class_weight=None, coef0=0.0,\n",
       "  decision_function_shape=None, degree=3, gamma='auto', kernel='rbf',\n",
       "  max_iter=-1, probability=False, random_state=None, shrinking=True,\n",
       "  tol=0.001, verbose=False),\n",
       "       fit_params={}, iid=True, n_jobs=1,\n",
       "       param_grid=[{'kernel': ['rbf'], 'gamma': [0.001, 0.01, 0.1], 'C': [0.1, 1, 10]}],\n",
       "       pre_dispatch='2*n_jobs', refit=True, return_train_score=True,\n",
       "       scoring=None, verbose=0)"
      ]
     },
     "execution_count": 11,
     "metadata": {},
     "output_type": "execute_result"
    }
   ],
   "source": [
    "X_train = X\n",
    "y_train = y\n",
    "# Set the parameters by cross-validation\n",
    "tuned_parameters = [{'kernel' : ['rbf'], 'gamma' : [0.001, 0.01, 0.1], 'C' : [0.1, 1, 10]}]\n",
    "clf = GridSearchCV(SVC(C=1), tuned_parameters, cv=5)\n",
    "clf.fit(X_train, y_train)"
   ]
  },
  {
   "cell_type": "code",
   "execution_count": 13,
   "metadata": {
    "collapsed": false
   },
   "outputs": [
    {
     "name": "stdout",
     "output_type": "stream",
     "text": [
      "Best parameters:\n",
      "{'C': 10, 'gamma': 0.01, 'kernel': 'rbf'}\n",
      "{'split0_test_score': array([ 0.4526936 ,  0.48333333,  0.46893939,  0.48063973,  0.49823232,\n",
      "        0.4989899 ,  0.49074074,  0.50311448,  0.48240741]), 'split1_test_score': array([ 0.44991582,  0.48661616,  0.48358586,  0.48333333,  0.50244108,\n",
      "        0.50749158,  0.49326599,  0.50681818,  0.48686869]), 'split2_test_score': array([ 0.44947794,  0.47869653,  0.46909734,  0.47751768,  0.49099023,\n",
      "        0.49545301,  0.48661165,  0.50084203,  0.4803806 ]), 'split3_test_score': array([ 0.4519498 ,  0.48698728,  0.47561695,  0.48041775,  0.50467447,\n",
      "        0.50122126,  0.49423061,  0.50812768,  0.48462899]), 'split4_test_score': array([ 0.45038747,  0.4796159 ,  0.46967655,  0.47633086,  0.49747305,\n",
      "        0.49848383,  0.48593329,  0.50496968,  0.48315364]), 'mean_test_score': array([ 0.45088496,  0.48305013,  0.47338374,  0.47964837,  0.49876223,\n",
      "        0.50032839,  0.49015678,  0.50477425,  0.48348798]), 'std_test_score': array([ 0.00123064,  0.00343631,  0.00567402,  0.0024779 ,  0.00470805,\n",
      "        0.00402708,  0.00337646,  0.00259528,  0.00217577]), 'rank_test_score': array([9, 6, 8, 7, 3, 2, 4, 1, 5]), 'split0_train_score': array([ 0.45150628,  0.48518979,  0.50062104,  0.482453  ,  0.51668386,\n",
      "        0.62369213,  0.49649481,  0.56236711,  0.74825793]), 'split1_train_score': array([ 0.44994842,  0.48567399,  0.50554725,  0.48087409,  0.51478916,\n",
      "        0.62320793,  0.49565272,  0.56255658,  0.74552115]), 'split2_train_score': array([ 0.45273129,  0.48668561,  0.50704136,  0.48266498,  0.51796653,\n",
      "        0.62500789,  0.49790548,  0.56419324,  0.74886854]), 'split3_train_score': array([ 0.4539025 ,  0.48556033,  0.50484129,  0.4828029 ,  0.51614465,\n",
      "        0.62378968,  0.49583228,  0.56295782,  0.74955797]), 'split4_train_score': array([ 0.45326149,  0.48693932,  0.49613757,  0.4826033 ,  0.5173967 ,\n",
      "        0.62506051,  0.49847397,  0.56393525,  0.74817403]), 'mean_train_score': array([ 0.45227   ,  0.48600981,  0.5028377 ,  0.48227965,  0.51659618,\n",
      "        0.62415163,  0.49687185,  0.563202  ,  0.74807592]), 'std_train_score': array([ 0.00140242,  0.0006794 ,  0.0039707 ,  0.00071171,  0.00109504,\n",
      "        0.00074726,  0.00112644,  0.00073396,  0.00137072]), 'mean_fit_time': array([  357.37915521,   353.92933774,   364.30304542,   326.94245124,\n",
      "         311.83954029,   508.95270829,   310.41810746,  7749.26900105,\n",
      "        1609.78128572]), 'std_fit_time': array([  2.97674139e+00,   4.51941211e+01,   7.31304282e+00,\n",
      "         8.60136231e+00,   7.18433918e+00,   3.86391588e+01,\n",
      "         9.16221097e+00,   1.48361338e+04,   1.52877668e+03]), 'mean_score_time': array([ 33.49154048,  30.46464911,  36.08197923,  30.10326238,\n",
      "        29.37405329,  34.18521929,  29.73984303,  29.19838066,  29.83249531]), 'std_score_time': array([ 3.3476828 ,  0.36740785,  9.08733416,  1.41993224,  1.12332589,\n",
      "        3.1965709 ,  1.19337872,  1.16678015,  0.67846594]), 'param_C': masked_array(data = [0.1 0.1 0.1 1 1 1 10 10 10],\n",
      "             mask = [False False False False False False False False False],\n",
      "       fill_value = ?)\n",
      ", 'param_gamma': masked_array(data = [0.001 0.01 0.1 0.001 0.01 0.1 0.001 0.01 0.1],\n",
      "             mask = [False False False False False False False False False],\n",
      "       fill_value = ?)\n",
      ", 'param_kernel': masked_array(data = ['rbf' 'rbf' 'rbf' 'rbf' 'rbf' 'rbf' 'rbf' 'rbf' 'rbf'],\n",
      "             mask = [False False False False False False False False False],\n",
      "       fill_value = ?)\n",
      ", 'params': ({'C': 0.1, 'gamma': 0.001, 'kernel': 'rbf'}, {'C': 0.1, 'gamma': 0.01, 'kernel': 'rbf'}, {'C': 0.1, 'gamma': 0.1, 'kernel': 'rbf'}, {'C': 1, 'gamma': 0.001, 'kernel': 'rbf'}, {'C': 1, 'gamma': 0.01, 'kernel': 'rbf'}, {'C': 1, 'gamma': 0.1, 'kernel': 'rbf'}, {'C': 10, 'gamma': 0.001, 'kernel': 'rbf'}, {'C': 10, 'gamma': 0.01, 'kernel': 'rbf'}, {'C': 10, 'gamma': 0.1, 'kernel': 'rbf'})}\n"
     ]
    }
   ],
   "source": [
    "print('Best parameters:')\n",
    "print(clf.best_params_) #Parameter setting that gave the best results on the hold out data.\n",
    "print(clf.cv_results_)"
   ]
  },
  {
   "cell_type": "code",
   "execution_count": null,
   "metadata": {
    "collapsed": false
   },
   "outputs": [],
   "source": [
    "X_train = X\n",
    "y_train = y\n",
    "clf_0 = SVC(C=0.001, kernel='rbf')\n",
    "clf_0.fit(X_train,y_train)\n",
    "print('0')\n",
    "clf_1 = SVC(C=0.01, kernel='rbf')\n",
    "clf_1.fit(X_train,y_train)\n",
    "clf_2 = SVC(C=0.1, kernel='rbf')\n",
    "clf_2.fit(X_train,y_train)\n",
    "clf_3 = SVC(C=1, kernel='rbf')\n",
    "clf_3.fit(X_train,y_train)\n",
    "clf_4 = SVC(C=10, kernel='rbf')\n",
    "clf_4.fit(X_train,y_train)\n",
    "clf_5 = SVC(C=100, kernel='rbf')\n",
    "clf_5.fit(X_train,y_train)\n",
    "clf_6 = SVC(C=1000, kernel='rbf')\n",
    "clf_6.fit(X_train,y_train)\n",
    "print('6')"
   ]
  },
  {
   "cell_type": "code",
   "execution_count": 14,
   "metadata": {
    "collapsed": false
   },
   "outputs": [
    {
     "data": {
      "text/plain": [
       "(19765, 38)"
      ]
     },
     "execution_count": 14,
     "metadata": {},
     "output_type": "execute_result"
    }
   ],
   "source": [
    "test_data = all_data[59381:]\n",
    "cols = test_data.columns\n",
    "test_data = test_data[list(cols)].values\n",
    "X_test = test_data[:,1:]\n",
    "X_test.shape"
   ]
  },
  {
   "cell_type": "code",
   "execution_count": 15,
   "metadata": {
    "collapsed": false
   },
   "outputs": [
    {
     "data": {
      "text/html": [
       "<div>\n",
       "<table border=\"1\" class=\"dataframe\">\n",
       "  <thead>\n",
       "    <tr style=\"text-align: right;\">\n",
       "      <th></th>\n",
       "      <th>Id</th>\n",
       "      <th>Response</th>\n",
       "    </tr>\n",
       "  </thead>\n",
       "  <tbody>\n",
       "    <tr>\n",
       "      <th>0</th>\n",
       "      <td>1</td>\n",
       "      <td>1</td>\n",
       "    </tr>\n",
       "    <tr>\n",
       "      <th>1</th>\n",
       "      <td>3</td>\n",
       "      <td>2</td>\n",
       "    </tr>\n",
       "    <tr>\n",
       "      <th>2</th>\n",
       "      <td>4</td>\n",
       "      <td>2</td>\n",
       "    </tr>\n",
       "    <tr>\n",
       "      <th>3</th>\n",
       "      <td>9</td>\n",
       "      <td>8</td>\n",
       "    </tr>\n",
       "    <tr>\n",
       "      <th>4</th>\n",
       "      <td>12</td>\n",
       "      <td>7</td>\n",
       "    </tr>\n",
       "  </tbody>\n",
       "</table>\n",
       "</div>"
      ],
      "text/plain": [
       "   Id  Response\n",
       "0   1         1\n",
       "1   3         2\n",
       "2   4         2\n",
       "3   9         8\n",
       "4  12         7"
      ]
     },
     "execution_count": 15,
     "metadata": {},
     "output_type": "execute_result"
    }
   ],
   "source": [
    "data = DataLoader(path='C://Users/pc/Documents/SOTON/GitHub/adml_dataminer/chandler/submission_kaggle.csv')\n",
    "submission = data.loader()\n",
    "submission.head()"
   ]
  },
  {
   "cell_type": "code",
   "execution_count": 16,
   "metadata": {
    "collapsed": true
   },
   "outputs": [],
   "source": [
    "y_predict = clf.predict(X_test)\n",
    "y_predict = pd.DataFrame(y_predict)\n",
    "\n",
    "y_predict['Id'] = submission['Id']\n",
    "y_predict.columns = ['Response','Id']\n",
    "y_predict = y_predict[['Id','Response']]\n",
    "\n",
    "#sent to csv file\n",
    "y_predict.to_csv('C://Users/pc/Documents/SOTON/GitHub/adml_dataminer/chandler/Rbf_best.csv', index=False)"
   ]
  },
  {
   "cell_type": "code",
   "execution_count": null,
   "metadata": {
    "collapsed": true
   },
   "outputs": [],
   "source": [
    "y_predict = clf_0.predict(X_test)\n",
    "y_predict = pd.DataFrame(y_predict)\n",
    "\n",
    "y_predict['Id'] = submission['Id']\n",
    "y_predict.columns = ['Response','Id']\n",
    "y_predict = y_predict[['Id','Response']]\n",
    "\n",
    "#sent to csv file\n",
    "y_predict.to_csv('C://Users/pc/Documents/SOTON/GitHub/adml_dataminer/chandler/submission_file_0.csv', index=False)"
   ]
  },
  {
   "cell_type": "code",
   "execution_count": null,
   "metadata": {
    "collapsed": true
   },
   "outputs": [],
   "source": [
    "y_predict = clf_1.predict(X_test)\n",
    "y_predict = pd.DataFrame(y_predict)\n",
    "\n",
    "y_predict['Id'] = submission['Id']\n",
    "y_predict.columns = ['Response','Id']\n",
    "y_predict = y_predict[['Id','Response']]\n",
    "y_predict.head()\n",
    "y_predict.to_csv('C://Users/pc/Documents/SOTON/GitHub/adml_dataminer/chandler/submission_file_1.csv', index=False)"
   ]
  },
  {
   "cell_type": "code",
   "execution_count": 20,
   "metadata": {
    "collapsed": true
   },
   "outputs": [],
   "source": [
    "y_predict = clf_2.predict(X_test)\n",
    "y_predict = pd.DataFrame(y_predict)\n",
    "\n",
    "y_predict['Id'] = submission['Id']\n",
    "y_predict.columns = ['Response','Id']\n",
    "y_predict = y_predict[['Id','Response']]\n",
    "y_predict.head()\n",
    "y_predict.to_csv('C://Users/pc/Documents/SOTON/GitHub/adml_dataminer/chandler/submission_file_2.csv', index=False)"
   ]
  },
  {
   "cell_type": "code",
   "execution_count": 21,
   "metadata": {
    "collapsed": true
   },
   "outputs": [],
   "source": [
    "y_predict = clf_3.predict(X_test)\n",
    "y_predict = pd.DataFrame(y_predict)\n",
    "\n",
    "y_predict['Id'] = submission['Id']\n",
    "y_predict.columns = ['Response','Id']\n",
    "y_predict = y_predict[['Id','Response']]\n",
    "y_predict.head()\n",
    "y_predict.to_csv('C://Users/pc/Documents/SOTON/GitHub/adml_dataminer/chandler/submission_file_3.csv', index=False)"
   ]
  },
  {
   "cell_type": "code",
   "execution_count": 22,
   "metadata": {
    "collapsed": true
   },
   "outputs": [],
   "source": [
    "y_predict = clf_4.predict(X_test)\n",
    "y_predict = pd.DataFrame(y_predict)\n",
    "\n",
    "y_predict['Id'] = submission['Id']\n",
    "y_predict.columns = ['Response','Id']\n",
    "y_predict = y_predict[['Id','Response']]\n",
    "y_predict.head()\n",
    "y_predict.to_csv('C://Users/pc/Documents/SOTON/GitHub/adml_dataminer/chandler/submission_file_4.csv', index=False)"
   ]
  },
  {
   "cell_type": "code",
   "execution_count": 23,
   "metadata": {
    "collapsed": true
   },
   "outputs": [],
   "source": [
    "y_predict = clf_5.predict(X_test)\n",
    "y_predict = pd.DataFrame(y_predict)\n",
    "\n",
    "y_predict['Id'] = submission['Id']\n",
    "y_predict.columns = ['Response','Id']\n",
    "y_predict = y_predict[['Id','Response']]\n",
    "y_predict.head()\n",
    "y_predict.to_csv('C://Users/pc/Documents/SOTON/GitHub/adml_dataminer/chandler/submission_file_5.csv', index=False)"
   ]
  },
  {
   "cell_type": "code",
   "execution_count": 24,
   "metadata": {
    "collapsed": true
   },
   "outputs": [],
   "source": [
    "y_predict = clf_6.predict(X_test)\n",
    "y_predict = pd.DataFrame(y_predict)\n",
    "\n",
    "y_predict['Id'] = submission['Id']\n",
    "y_predict.columns = ['Response','Id']\n",
    "y_predict = y_predict[['Id','Response']]\n",
    "y_predict.head()\n",
    "y_predict.to_csv('C://Users/pc/Documents/SOTON/GitHub/adml_dataminer/chandler/submission_file_6.csv', index=False)"
   ]
  },
  {
   "cell_type": "code",
   "execution_count": null,
   "metadata": {
    "collapsed": true
   },
   "outputs": [],
   "source": []
  }
 ],
 "metadata": {
  "kernelspec": {
   "display_name": "Python 3",
   "language": "python",
   "name": "python3"
  },
  "language_info": {
   "codemirror_mode": {
    "name": "ipython",
    "version": 3
   },
   "file_extension": ".py",
   "mimetype": "text/x-python",
   "name": "python",
   "nbconvert_exporter": "python",
   "pygments_lexer": "ipython3",
   "version": "3.6.0"
  }
 },
 "nbformat": 4,
 "nbformat_minor": 0
}
