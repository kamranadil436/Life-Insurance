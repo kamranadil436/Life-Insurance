{
 "cells": [
  {
   "cell_type": "code",
   "execution_count": 1,
   "metadata": {
    "collapsed": true
   },
   "outputs": [],
   "source": [
    "import pandas as pd\n",
    "import numpy as np\n",
    "import matplotlib.pyplot as plt\n",
    "from sklearn.preprocessing import Imputer\n",
    "from sklearn.ensemble import RandomForestClassifier\n",
    "from sklearn.feature_selection import SelectFromModel"
   ]
  },
  {
   "cell_type": "code",
   "execution_count": 2,
   "metadata": {
    "collapsed": true
   },
   "outputs": [],
   "source": [
    "def parse_data(df):\n",
    "    \n",
    "    df[\"BMI_Ins_age\"] = df.BMI*df.Ins_Age\n",
    "    \n",
    "    df[\"Product_Info2_let\"] = df.Product_Info_2.str[0]\n",
    "    df[\"Product_Info2_num\"] = df.Product_Info_2.str[1]\n",
    "    \n",
    "    df[\"Product_Info2_let\"] = pd.factorize(df.Product_Info2_let)[0]+1\n",
    "    df[\"Product_Info_2\"] = pd.factorize(df.Product_Info_2)[0]+1\n",
    "    \n",
    "    df['Medical_KW'] = df[['Medical_Keyword_1',\n",
    "       'Medical_Keyword_2', 'Medical_Keyword_3', 'Medical_Keyword_4',\n",
    "       'Medical_Keyword_5', 'Medical_Keyword_6', 'Medical_Keyword_7',\n",
    "       'Medical_Keyword_8', 'Medical_Keyword_9', 'Medical_Keyword_10',\n",
    "       'Medical_Keyword_11', 'Medical_Keyword_12', 'Medical_Keyword_13',\n",
    "       'Medical_Keyword_14', 'Medical_Keyword_15', 'Medical_Keyword_16',\n",
    "       'Medical_Keyword_17', 'Medical_Keyword_18', 'Medical_Keyword_19',\n",
    "       'Medical_Keyword_20', 'Medical_Keyword_21', 'Medical_Keyword_22',\n",
    "       'Medical_Keyword_23', 'Medical_Keyword_24', 'Medical_Keyword_25',\n",
    "       'Medical_Keyword_26', 'Medical_Keyword_27', 'Medical_Keyword_28',\n",
    "       'Medical_Keyword_29', 'Medical_Keyword_30', 'Medical_Keyword_31',\n",
    "       'Medical_Keyword_32', 'Medical_Keyword_33', 'Medical_Keyword_34',\n",
    "       'Medical_Keyword_35', 'Medical_Keyword_36', 'Medical_Keyword_37',\n",
    "       'Medical_Keyword_38', 'Medical_Keyword_39', 'Medical_Keyword_40',\n",
    "       'Medical_Keyword_41', 'Medical_Keyword_42', 'Medical_Keyword_43',\n",
    "       'Medical_Keyword_44', 'Medical_Keyword_45', 'Medical_Keyword_46',\n",
    "       'Medical_Keyword_47', 'Medical_Keyword_48']].sum(axis = 1)\n",
    "    \n",
    "    df['Na_Num'] = df.isnull().sum(axis = 1)\n",
    "    \n",
    "    imp = Imputer(missing_values='NaN', strategy='mean', axis=0)\n",
    "    col = df.columns.values\n",
    "    df = pd.DataFrame(imp.fit_transform(df))\n",
    "    df.columns = col\n",
    "    \n",
    "    return df\n",
    "\n",
    "#Matching the name of the selected features with original features`\n",
    "def match(select_ls, ls):\n",
    "    new_ls = []\n",
    "    length = select_ls.shape[0]\n",
    "    for i in np.arange(length):\n",
    "        if str(select_ls[i]) == \"True\":\n",
    "            new_ls.append(str(ls[i]))\n",
    "    return new_ls"
   ]
  },
  {
   "cell_type": "code",
   "execution_count": 6,
   "metadata": {
    "collapsed": true
   },
   "outputs": [],
   "source": [
    "train = pd.read_csv(\"train.csv\")\n",
    "# df = parse_data(train)\n",
    "# y= df.Response"
   ]
  },
  {
   "cell_type": "code",
   "execution_count": 7,
   "metadata": {
    "collapsed": false
   },
   "outputs": [
    {
     "data": {
      "text/plain": [
       "pandas.core.frame.DataFrame"
      ]
     },
     "execution_count": 7,
     "metadata": {},
     "output_type": "execute_result"
    }
   ],
   "source": [
    "type(train)"
   ]
  },
  {
   "cell_type": "code",
   "execution_count": null,
   "metadata": {
    "collapsed": true
   },
   "outputs": [],
   "source": []
  }
 ],
 "metadata": {
  "kernelspec": {
   "display_name": "Python 3",
   "language": "python",
   "name": "python3"
  },
  "language_info": {
   "codemirror_mode": {
    "name": "ipython",
    "version": 3
   },
   "file_extension": ".py",
   "mimetype": "text/x-python",
   "name": "python",
   "nbconvert_exporter": "python",
   "pygments_lexer": "ipython3",
   "version": "3.6.0"
  }
 },
 "nbformat": 4,
 "nbformat_minor": 2
}
