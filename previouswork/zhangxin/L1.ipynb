{
 "cells": [
  {
   "cell_type": "code",
   "execution_count": 2,
   "metadata": {
    "collapsed": false,
    "deletable": true,
    "editable": true
   },
   "outputs": [],
   "source": [
    "import pandas as pd\n",
    "import numpy as np\n",
    "from sklearn.svm import LinearSVC\n",
    "from sklearn.feature_selection import SelectFromModel"
   ]
  },
  {
   "cell_type": "code",
   "execution_count": 4,
   "metadata": {
    "collapsed": false,
    "deletable": true,
    "editable": true
   },
   "outputs": [
    {
     "data": {
      "text/plain": [
       "(59381, 128)"
      ]
     },
     "execution_count": 4,
     "metadata": {},
     "output_type": "execute_result"
    }
   ],
   "source": [
    "data = pd.read_csv(\"train.csv\")\n",
    "data.shape"
   ]
  },
  {
   "cell_type": "code",
   "execution_count": 6,
   "metadata": {
    "collapsed": true,
    "deletable": true,
    "editable": true
   },
   "outputs": [],
   "source": [
    "# the function of preprocessing data\n",
    "# use mean to fill missing data\n",
    "def feature_scale(arg):\n",
    "    scale_df = (arg - arg.mean())/arg.std(ddof = 1)\n",
    "    return scale_df\n",
    "\n",
    "def pre_process(df):\n",
    "    df[\"BMI_Ins_age\"] = df.BMI*df.Ins_Age\n",
    "    df[\"Product_Info_2\"] = pd.factorize(df.Product_Info_2)[0]\n",
    "    df = df.fillna(df.mean())\n",
    "#     std_df = feature_scale(df)\n",
    "    std_df = df.drop(\"Id\", axis =1)\n",
    "    return std_df\n",
    "\n",
    "def match(select_ls, ls):\n",
    "    new_ls = []\n",
    "    length = select_ls.shape[0]\n",
    "    for i in np.arange(length):\n",
    "        if str(select_ls[i]) == \"True\":\n",
    "            new_ls.append(str(ls[i]))\n",
    "    return new_ls"
   ]
  },
  {
   "cell_type": "code",
   "execution_count": 7,
   "metadata": {
    "collapsed": false,
    "deletable": true,
    "editable": true
   },
   "outputs": [],
   "source": [
    "std_df = pre_process(data)\n",
    "y = std_df.Response # there is a problem with the std_df.Response\n",
    "x = std_df.drop(\"Response\", axis = 1) \n",
    "# print(x)"
   ]
  },
  {
   "cell_type": "code",
   "execution_count": 8,
   "metadata": {
    "collapsed": false,
    "deletable": true,
    "editable": true,
    "scrolled": true
   },
   "outputs": [],
   "source": [
    "# feature selection\n",
    "lsvc = LinearSVC(C = 0.01, penalty=\"l1\", dual=False).fit(x,y)"
   ]
  },
  {
   "cell_type": "code",
   "execution_count": 19,
   "metadata": {
    "collapsed": true,
    "deletable": true,
    "editable": true
   },
   "outputs": [],
   "source": [
    "lsvc2 = LinearSVC(C = 0.05, penalty = \"l1\", dual = False).fit(x,y)"
   ]
  },
  {
   "cell_type": "code",
   "execution_count": 10,
   "metadata": {
    "collapsed": true,
    "deletable": true,
    "editable": true
   },
   "outputs": [],
   "source": [
    "lsvc3 = LinearSVC(C = 0.01, penalty=\"l2\", dual=False).fit(x,y)"
   ]
  },
  {
   "cell_type": "code",
   "execution_count": 13,
   "metadata": {
    "collapsed": false,
    "deletable": true,
    "editable": true
   },
   "outputs": [
    {
     "data": {
      "text/plain": [
       "['Product_Info_1',\n",
       " 'Product_Info_2',\n",
       " 'Product_Info_3',\n",
       " 'Product_Info_4',\n",
       " 'Product_Info_5',\n",
       " 'Product_Info_6',\n",
       " 'Product_Info_7',\n",
       " 'Ins_Age',\n",
       " 'BMI',\n",
       " 'Employment_Info_2',\n",
       " 'Employment_Info_3',\n",
       " 'Employment_Info_5',\n",
       " 'Employment_Info_6',\n",
       " 'InsuredInfo_1',\n",
       " 'InsuredInfo_2',\n",
       " 'InsuredInfo_3',\n",
       " 'InsuredInfo_4',\n",
       " 'InsuredInfo_5',\n",
       " 'InsuredInfo_6',\n",
       " 'InsuredInfo_7',\n",
       " 'Insurance_History_1',\n",
       " 'Insurance_History_2',\n",
       " 'Insurance_History_3',\n",
       " 'Insurance_History_4',\n",
       " 'Insurance_History_7',\n",
       " 'Insurance_History_8',\n",
       " 'Insurance_History_9',\n",
       " 'Family_Hist_1',\n",
       " 'Family_Hist_2',\n",
       " 'Family_Hist_3',\n",
       " 'Family_Hist_4',\n",
       " 'Medical_History_1',\n",
       " 'Medical_History_2',\n",
       " 'Medical_History_3',\n",
       " 'Medical_History_4',\n",
       " 'Medical_History_5',\n",
       " 'Medical_History_6',\n",
       " 'Medical_History_7',\n",
       " 'Medical_History_8',\n",
       " 'Medical_History_9',\n",
       " 'Medical_History_10',\n",
       " 'Medical_History_11',\n",
       " 'Medical_History_12',\n",
       " 'Medical_History_13',\n",
       " 'Medical_History_14',\n",
       " 'Medical_History_15',\n",
       " 'Medical_History_16',\n",
       " 'Medical_History_17',\n",
       " 'Medical_History_18',\n",
       " 'Medical_History_19',\n",
       " 'Medical_History_20',\n",
       " 'Medical_History_21',\n",
       " 'Medical_History_22',\n",
       " 'Medical_History_23',\n",
       " 'Medical_History_24',\n",
       " 'Medical_History_26',\n",
       " 'Medical_History_27',\n",
       " 'Medical_History_28',\n",
       " 'Medical_History_29',\n",
       " 'Medical_History_30',\n",
       " 'Medical_History_31',\n",
       " 'Medical_History_32',\n",
       " 'Medical_History_33',\n",
       " 'Medical_History_34',\n",
       " 'Medical_History_35',\n",
       " 'Medical_History_36',\n",
       " 'Medical_History_37',\n",
       " 'Medical_History_39',\n",
       " 'Medical_History_40',\n",
       " 'Medical_History_41',\n",
       " 'Medical_Keyword_1',\n",
       " 'Medical_Keyword_3',\n",
       " 'Medical_Keyword_4',\n",
       " 'Medical_Keyword_9',\n",
       " 'Medical_Keyword_15',\n",
       " 'Medical_Keyword_22',\n",
       " 'Medical_Keyword_23',\n",
       " 'Medical_Keyword_24',\n",
       " 'Medical_Keyword_25',\n",
       " 'Medical_Keyword_33',\n",
       " 'Medical_Keyword_35',\n",
       " 'Medical_Keyword_37',\n",
       " 'Medical_Keyword_38',\n",
       " 'Medical_Keyword_41',\n",
       " 'Medical_Keyword_42',\n",
       " 'Medical_Keyword_43',\n",
       " 'Medical_Keyword_47',\n",
       " 'Medical_Keyword_48',\n",
       " 'BMI_Ins_age']"
      ]
     },
     "execution_count": 13,
     "metadata": {},
     "output_type": "execute_result"
    }
   ],
   "source": [
    "model = SelectFromModel(lsvc, prefit=True)\n",
    "x_new = model.transform(x)\n",
    "new_data = std_df.drop(\"Response\", axis =1)\n",
    "match(model.get_support(), new_data.columns.values)"
   ]
  },
  {
   "cell_type": "code",
   "execution_count": 14,
   "metadata": {
    "collapsed": false
   },
   "outputs": [
    {
     "data": {
      "text/plain": [
       "(59381, 89)"
      ]
     },
     "execution_count": 14,
     "metadata": {},
     "output_type": "execute_result"
    }
   ],
   "source": [
    "x_new.shape "
   ]
  },
  {
   "cell_type": "code",
   "execution_count": 20,
   "metadata": {
    "collapsed": false,
    "deletable": true,
    "editable": true
   },
   "outputs": [
    {
     "data": {
      "text/plain": [
       "['Product_Info_1',\n",
       " 'Product_Info_2',\n",
       " 'Product_Info_3',\n",
       " 'Product_Info_4',\n",
       " 'Product_Info_5',\n",
       " 'Product_Info_6',\n",
       " 'Product_Info_7',\n",
       " 'Ins_Age',\n",
       " 'Ht',\n",
       " 'Wt',\n",
       " 'BMI',\n",
       " 'Employment_Info_1',\n",
       " 'Employment_Info_2',\n",
       " 'Employment_Info_3',\n",
       " 'Employment_Info_5',\n",
       " 'Employment_Info_6',\n",
       " 'InsuredInfo_1',\n",
       " 'InsuredInfo_2',\n",
       " 'InsuredInfo_3',\n",
       " 'InsuredInfo_4',\n",
       " 'InsuredInfo_5',\n",
       " 'InsuredInfo_6',\n",
       " 'InsuredInfo_7',\n",
       " 'Insurance_History_1',\n",
       " 'Insurance_History_2',\n",
       " 'Insurance_History_3',\n",
       " 'Insurance_History_4',\n",
       " 'Insurance_History_7',\n",
       " 'Insurance_History_8',\n",
       " 'Insurance_History_9',\n",
       " 'Family_Hist_1',\n",
       " 'Family_Hist_2',\n",
       " 'Family_Hist_3',\n",
       " 'Family_Hist_4',\n",
       " 'Family_Hist_5',\n",
       " 'Medical_History_1',\n",
       " 'Medical_History_2',\n",
       " 'Medical_History_3',\n",
       " 'Medical_History_4',\n",
       " 'Medical_History_5',\n",
       " 'Medical_History_6',\n",
       " 'Medical_History_7',\n",
       " 'Medical_History_8',\n",
       " 'Medical_History_9',\n",
       " 'Medical_History_10',\n",
       " 'Medical_History_11',\n",
       " 'Medical_History_12',\n",
       " 'Medical_History_13',\n",
       " 'Medical_History_14',\n",
       " 'Medical_History_15',\n",
       " 'Medical_History_16',\n",
       " 'Medical_History_17',\n",
       " 'Medical_History_18',\n",
       " 'Medical_History_19',\n",
       " 'Medical_History_20',\n",
       " 'Medical_History_21',\n",
       " 'Medical_History_22',\n",
       " 'Medical_History_23',\n",
       " 'Medical_History_24',\n",
       " 'Medical_History_25',\n",
       " 'Medical_History_26',\n",
       " 'Medical_History_27',\n",
       " 'Medical_History_28',\n",
       " 'Medical_History_29',\n",
       " 'Medical_History_30',\n",
       " 'Medical_History_31',\n",
       " 'Medical_History_32',\n",
       " 'Medical_History_33',\n",
       " 'Medical_History_34',\n",
       " 'Medical_History_35',\n",
       " 'Medical_History_36',\n",
       " 'Medical_History_37',\n",
       " 'Medical_History_38',\n",
       " 'Medical_History_39',\n",
       " 'Medical_History_40',\n",
       " 'Medical_History_41',\n",
       " 'Medical_Keyword_1',\n",
       " 'Medical_Keyword_2',\n",
       " 'Medical_Keyword_3',\n",
       " 'Medical_Keyword_4',\n",
       " 'Medical_Keyword_5',\n",
       " 'Medical_Keyword_6',\n",
       " 'Medical_Keyword_7',\n",
       " 'Medical_Keyword_8',\n",
       " 'Medical_Keyword_9',\n",
       " 'Medical_Keyword_10',\n",
       " 'Medical_Keyword_12',\n",
       " 'Medical_Keyword_14',\n",
       " 'Medical_Keyword_15',\n",
       " 'Medical_Keyword_16',\n",
       " 'Medical_Keyword_17',\n",
       " 'Medical_Keyword_18',\n",
       " 'Medical_Keyword_19',\n",
       " 'Medical_Keyword_20',\n",
       " 'Medical_Keyword_21',\n",
       " 'Medical_Keyword_22',\n",
       " 'Medical_Keyword_23',\n",
       " 'Medical_Keyword_24',\n",
       " 'Medical_Keyword_25',\n",
       " 'Medical_Keyword_26',\n",
       " 'Medical_Keyword_28',\n",
       " 'Medical_Keyword_29',\n",
       " 'Medical_Keyword_30',\n",
       " 'Medical_Keyword_31',\n",
       " 'Medical_Keyword_32',\n",
       " 'Medical_Keyword_33',\n",
       " 'Medical_Keyword_35',\n",
       " 'Medical_Keyword_36',\n",
       " 'Medical_Keyword_37',\n",
       " 'Medical_Keyword_38',\n",
       " 'Medical_Keyword_39',\n",
       " 'Medical_Keyword_40',\n",
       " 'Medical_Keyword_41',\n",
       " 'Medical_Keyword_42',\n",
       " 'Medical_Keyword_43',\n",
       " 'Medical_Keyword_44',\n",
       " 'Medical_Keyword_45',\n",
       " 'Medical_Keyword_46',\n",
       " 'Medical_Keyword_47',\n",
       " 'Medical_Keyword_48',\n",
       " 'BMI_Ins_age']"
      ]
     },
     "execution_count": 20,
     "metadata": {},
     "output_type": "execute_result"
    }
   ],
   "source": [
    "model2 = SelectFromModel(lsvc2, prefit = True)\n",
    "x_new2 = model2.transform(x)\n",
    "match(model2.get_support(), new_data.columns.values)"
   ]
  },
  {
   "cell_type": "code",
   "execution_count": 21,
   "metadata": {
    "collapsed": false
   },
   "outputs": [
    {
     "data": {
      "text/plain": [
       "(59381, 121)"
      ]
     },
     "execution_count": 21,
     "metadata": {},
     "output_type": "execute_result"
    }
   ],
   "source": [
    "x_new2.shape"
   ]
  },
  {
   "cell_type": "code",
   "execution_count": 17,
   "metadata": {
    "collapsed": false,
    "deletable": true,
    "editable": true
   },
   "outputs": [
    {
     "data": {
      "text/plain": [
       "['Product_Info_1',\n",
       " 'Product_Info_4',\n",
       " 'Product_Info_5',\n",
       " 'Ins_Age',\n",
       " 'Ht',\n",
       " 'Wt',\n",
       " 'BMI',\n",
       " 'Employment_Info_1',\n",
       " 'InsuredInfo_2',\n",
       " 'InsuredInfo_5',\n",
       " 'Insurance_History_2',\n",
       " 'Family_Hist_2',\n",
       " 'Family_Hist_3',\n",
       " 'Family_Hist_4',\n",
       " 'Family_Hist_5',\n",
       " 'Medical_History_4',\n",
       " 'Medical_History_5',\n",
       " 'Medical_History_17',\n",
       " 'Medical_History_18',\n",
       " 'Medical_History_20',\n",
       " 'Medical_History_26',\n",
       " 'Medical_History_27',\n",
       " 'Medical_History_28',\n",
       " 'Medical_History_30',\n",
       " 'Medical_History_35',\n",
       " 'Medical_History_38',\n",
       " 'Medical_History_40',\n",
       " 'Medical_Keyword_3',\n",
       " 'Medical_Keyword_6',\n",
       " 'Medical_Keyword_9',\n",
       " 'Medical_Keyword_12',\n",
       " 'Medical_Keyword_15',\n",
       " 'Medical_Keyword_35',\n",
       " 'Medical_Keyword_38',\n",
       " 'Medical_Keyword_41',\n",
       " 'Medical_Keyword_45',\n",
       " 'Medical_Keyword_48',\n",
       " 'BMI_Ins_age']"
      ]
     },
     "execution_count": 17,
     "metadata": {},
     "output_type": "execute_result"
    }
   ],
   "source": [
    "model3 = SelectFromModel(lsvc3, prefit = True)\n",
    "x_new3 = model3.transform(x)\n",
    "match(model3.get_support(), new_data.columns.values)"
   ]
  },
  {
   "cell_type": "code",
   "execution_count": 18,
   "metadata": {
    "collapsed": false
   },
   "outputs": [
    {
     "data": {
      "text/plain": [
       "(59381, 38)"
      ]
     },
     "execution_count": 18,
     "metadata": {},
     "output_type": "execute_result"
    }
   ],
   "source": [
    "x_new3.shape"
   ]
  }
 ],
 "metadata": {
  "kernelspec": {
   "display_name": "Python 3",
   "language": "python",
   "name": "python3"
  },
  "language_info": {
   "codemirror_mode": {
    "name": "ipython",
    "version": 3
   },
   "file_extension": ".py",
   "mimetype": "text/x-python",
   "name": "python",
   "nbconvert_exporter": "python",
   "pygments_lexer": "ipython3",
   "version": "3.5.2"
  }
 },
 "nbformat": 4,
 "nbformat_minor": 2
}
