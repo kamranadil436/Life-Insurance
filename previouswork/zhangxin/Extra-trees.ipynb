{
 "cells": [
  {
   "cell_type": "code",
   "execution_count": 1,
   "metadata": {
    "collapsed": false,
    "deletable": true,
    "editable": true
   },
   "outputs": [],
   "source": [
    "import numpy as np\n",
    "import pandas as pd\n",
    "import matplotlib.pyplot as plt\n",
    "from sklearn.preprocessing import Imputer\n",
    "from sklearn.ensemble import ExtraTreesClassifier\n",
    "from sklearn.feature_selection import SelectFromModel"
   ]
  },
  {
   "cell_type": "code",
   "execution_count": 2,
   "metadata": {
    "collapsed": true,
    "deletable": true,
    "editable": true
   },
   "outputs": [],
   "source": [
    "def parse_data(df):\n",
    "    \n",
    "    df[\"BMI_Ins_age\"] = df.BMI*df.Ins_Age\n",
    "    \n",
    "    df[\"Product_Info2_let\"] = df.Product_Info_2.str[0]\n",
    "    df[\"Product_Info2_num\"] = df.Product_Info_2.str[1]\n",
    "    \n",
    "    df[\"Product_Info2_let\"] = pd.factorize(df.Product_Info2_let)[0]+1\n",
    "    df[\"Product_Info_2\"] = pd.factorize(df.Product_Info_2)[0]+1\n",
    "    \n",
    "    df['Medical_KW'] = df[['Medical_Keyword_1',\n",
    "       'Medical_Keyword_2', 'Medical_Keyword_3', 'Medical_Keyword_4',\n",
    "       'Medical_Keyword_5', 'Medical_Keyword_6', 'Medical_Keyword_7',\n",
    "       'Medical_Keyword_8', 'Medical_Keyword_9', 'Medical_Keyword_10',\n",
    "       'Medical_Keyword_11', 'Medical_Keyword_12', 'Medical_Keyword_13',\n",
    "       'Medical_Keyword_14', 'Medical_Keyword_15', 'Medical_Keyword_16',\n",
    "       'Medical_Keyword_17', 'Medical_Keyword_18', 'Medical_Keyword_19',\n",
    "       'Medical_Keyword_20', 'Medical_Keyword_21', 'Medical_Keyword_22',\n",
    "       'Medical_Keyword_23', 'Medical_Keyword_24', 'Medical_Keyword_25',\n",
    "       'Medical_Keyword_26', 'Medical_Keyword_27', 'Medical_Keyword_28',\n",
    "       'Medical_Keyword_29', 'Medical_Keyword_30', 'Medical_Keyword_31',\n",
    "       'Medical_Keyword_32', 'Medical_Keyword_33', 'Medical_Keyword_34',\n",
    "       'Medical_Keyword_35', 'Medical_Keyword_36', 'Medical_Keyword_37',\n",
    "       'Medical_Keyword_38', 'Medical_Keyword_39', 'Medical_Keyword_40',\n",
    "       'Medical_Keyword_41', 'Medical_Keyword_42', 'Medical_Keyword_43',\n",
    "       'Medical_Keyword_44', 'Medical_Keyword_45', 'Medical_Keyword_46',\n",
    "       'Medical_Keyword_47', 'Medical_Keyword_48']].sum(axis = 1)\n",
    "    \n",
    "    df['Na_Num'] = df.isnull().sum(axis = 1)\n",
    "    \n",
    "    imp = Imputer(missing_values='NaN', strategy='mean', axis=0)\n",
    "    col = df.columns.values\n",
    "    df = pd.DataFrame(imp.fit_transform(df))\n",
    "    df.columns = col\n",
    "    \n",
    "    return df\n",
    "    "
   ]
  },
  {
   "cell_type": "code",
   "execution_count": 3,
   "metadata": {
    "collapsed": true,
    "deletable": true,
    "editable": true
   },
   "outputs": [],
   "source": [
    "#Matching the name of the selected features with original features`\n",
    "def match(select_ls, ls):\n",
    "    new_ls = []\n",
    "    length = select_ls.shape[0]\n",
    "    for i in np.arange(length):\n",
    "        if str(select_ls[i]) == \"True\":\n",
    "            new_ls.append(str(ls[i]))\n",
    "    return new_ls"
   ]
  },
  {
   "cell_type": "code",
   "execution_count": 4,
   "metadata": {
    "collapsed": false,
    "deletable": true,
    "editable": true
   },
   "outputs": [],
   "source": [
    "train = pd.read_csv(\"train.csv\")\n",
    "df = parse_data(train)\n",
    "y= df.Response"
   ]
  },
  {
   "cell_type": "code",
   "execution_count": 5,
   "metadata": {
    "collapsed": false,
    "deletable": true,
    "editable": true
   },
   "outputs": [
    {
     "data": {
      "text/plain": [
       "133"
      ]
     },
     "execution_count": 5,
     "metadata": {},
     "output_type": "execute_result"
    }
   ],
   "source": [
    "list = train.columns.values\n",
    "len(list)"
   ]
  },
  {
   "cell_type": "code",
   "execution_count": 6,
   "metadata": {
    "collapsed": false,
    "deletable": true,
    "editable": true
   },
   "outputs": [
    {
     "data": {
      "text/plain": [
       "ExtraTreesClassifier(bootstrap=False, class_weight=None, criterion='gini',\n",
       "           max_depth=None, max_features='auto', max_leaf_nodes=None,\n",
       "           min_impurity_split=1e-07, min_samples_leaf=1,\n",
       "           min_samples_split=2, min_weight_fraction_leaf=0.0,\n",
       "           n_estimators=300, n_jobs=1, oob_score=False, random_state=0,\n",
       "           verbose=0, warm_start=False)"
      ]
     },
     "execution_count": 6,
     "metadata": {},
     "output_type": "execute_result"
    }
   ],
   "source": [
    "#extremely randomized trees model\n",
    "#Train a extremely randomized trees model with \"n_estimators=300\" and other paramer by default\n",
    "columns_to_drop = [\"Id\", \"Response\"]\n",
    "et = ExtraTreesClassifier(n_estimators=300, random_state=0)\n",
    "et.fit(df.drop(columns_to_drop, axis = 1), y)"
   ]
  },
  {
   "cell_type": "code",
   "execution_count": 7,
   "metadata": {
    "collapsed": false,
    "deletable": true,
    "editable": true
   },
   "outputs": [
    {
     "data": {
      "text/plain": [
       "ExtraTreesClassifier(bootstrap=False, class_weight=None, criterion='gini',\n",
       "           max_depth=None, max_features='auto', max_leaf_nodes=None,\n",
       "           min_impurity_split=1e-07, min_samples_leaf=1,\n",
       "           min_samples_split=2, min_weight_fraction_leaf=0.0,\n",
       "           n_estimators=100, n_jobs=1, oob_score=False, random_state=0,\n",
       "           verbose=0, warm_start=False)"
      ]
     },
     "execution_count": 7,
     "metadata": {},
     "output_type": "execute_result"
    }
   ],
   "source": [
    "et2 = ExtraTreesClassifier(n_estimators=100, random_state=0)\n",
    "et2.fit(df.drop(columns_to_drop, axis = 1), y)"
   ]
  },
  {
   "cell_type": "code",
   "execution_count": null,
   "metadata": {
    "collapsed": false,
    "deletable": true,
    "editable": true
   },
   "outputs": [],
   "source": [
    "#Display the 20th first features by importances\n",
    "importances = pd.DataFrame({'features': df.drop(columns_to_drop, axis = 1).columns,\n",
    "                           'importances':et.feature_importances_})\n",
    "importances.sort_values(by = 'importances', ascending = False).head(20)"
   ]
  },
  {
   "cell_type": "code",
   "execution_count": null,
   "metadata": {
    "collapsed": false,
    "deletable": true,
    "editable": true
   },
   "outputs": [],
   "source": [
    "#Display the 20th last feature\n",
    "importances.sort_values(by = 'importances', ascending = False).tail(20)"
   ]
  },
  {
   "cell_type": "code",
   "execution_count": null,
   "metadata": {
    "collapsed": false,
    "deletable": true,
    "editable": true
   },
   "outputs": [],
   "source": [
    "#plot the features importances\n",
    "%matplotlib inline\n",
    "importances.sort_values(by = 'importances', ascending = True, inplace =True)\n",
    "val = importances.importances*100 #the bar lengths\n",
    "pos = np.arange(importances.shape[0])+.5\n",
    "\n",
    "plt.figure(figsize = (13,28))\n",
    "plt.barh(pos, val, align = 'center')\n",
    "plt.yticks(pos, importances.features.values)\n",
    "plt.xlabel('Importances')\n",
    "plt.title('Features importances')\n",
    "plt.grid(True)"
   ]
  },
  {
   "cell_type": "code",
   "execution_count": null,
   "metadata": {
    "collapsed": false,
    "deletable": true,
    "editable": true
   },
   "outputs": [],
   "source": [
    "#cumsum of importances\n",
    "importances.sort_values(by = 'importances', ascending = False,\n",
    "                       inplace = True)\n",
    "importances['cumul'] = np.cumsum(importances.importances,\n",
    "                                axis = 0)\n",
    "importances.sort_values(by = 'importances', ascending = True, \n",
    "                       inplace = True)\n",
    "val = importances.cumul*100 # the bar lengths\n",
    "pos = np.arange(importances.shape[0])+.5\n",
    "plt.figure(figsize = (13,28))\n",
    "plt.barh(pos, val, align = 'center')\n",
    "plt.yticks(pos, importances.features.values)\n",
    "plt.xlabel('Importances')\n",
    "plt.title('Features importances')\n",
    "plt.grid(True)"
   ]
  },
  {
   "cell_type": "code",
   "execution_count": null,
   "metadata": {
    "collapsed": false,
    "deletable": true,
    "editable": true
   },
   "outputs": [],
   "source": [
    "\n",
    "for i in np.arange(50,100,5):\n",
    "    print('Number of variables to have {0} % d\\' \\\"importance\\\" of variables  : {1} sur {2}'.format(i,importances.features[importances.cumul < i/100].shape[0],\n",
    "                                                                                                    importances.features.shape[0]))"
   ]
  },
  {
   "cell_type": "code",
   "execution_count": null,
   "metadata": {
    "collapsed": false,
    "deletable": true,
    "editable": true
   },
   "outputs": [],
   "source": [
    "#Variables ro remove to get X % of importances \n",
    "\n",
    "X = 90\n",
    "\n",
    "importances.features[importances.cumul>X/100].values"
   ]
  },
  {
   "cell_type": "code",
   "execution_count": 8,
   "metadata": {
    "collapsed": false,
    "deletable": true,
    "editable": true
   },
   "outputs": [
    {
     "data": {
      "text/plain": [
       "(59381, 58)"
      ]
     },
     "execution_count": 8,
     "metadata": {},
     "output_type": "execute_result"
    }
   ],
   "source": [
    "model = SelectFromModel(et, prefit=True, threshold = 0.005)\n",
    "X_new = model.transform(df.drop(columns_to_drop, axis = 1))\n",
    "X_new.shape  "
   ]
  },
  {
   "cell_type": "code",
   "execution_count": 9,
   "metadata": {
    "collapsed": false,
    "deletable": true,
    "editable": true
   },
   "outputs": [
    {
     "data": {
      "text/plain": [
       "['Product_Info_2',\n",
       " 'Product_Info_3',\n",
       " 'Product_Info_4',\n",
       " 'Product_Info_6',\n",
       " 'Ins_Age',\n",
       " 'Ht',\n",
       " 'Wt',\n",
       " 'BMI',\n",
       " 'Employment_Info_1',\n",
       " 'Employment_Info_2',\n",
       " 'Employment_Info_3',\n",
       " 'Employment_Info_4',\n",
       " 'Employment_Info_5',\n",
       " 'Employment_Info_6',\n",
       " 'InsuredInfo_1',\n",
       " 'InsuredInfo_3',\n",
       " 'InsuredInfo_4',\n",
       " 'InsuredInfo_6',\n",
       " 'Insurance_History_1',\n",
       " 'Insurance_History_4',\n",
       " 'Insurance_History_5',\n",
       " 'Insurance_History_7',\n",
       " 'Insurance_History_8',\n",
       " 'Family_Hist_1',\n",
       " 'Family_Hist_2',\n",
       " 'Family_Hist_3',\n",
       " 'Family_Hist_4',\n",
       " 'Family_Hist_5',\n",
       " 'Medical_History_1',\n",
       " 'Medical_History_2',\n",
       " 'Medical_History_3',\n",
       " 'Medical_History_4',\n",
       " 'Medical_History_8',\n",
       " 'Medical_History_9',\n",
       " 'Medical_History_13',\n",
       " 'Medical_History_15',\n",
       " 'Medical_History_16',\n",
       " 'Medical_History_21',\n",
       " 'Medical_History_23',\n",
       " 'Medical_History_24',\n",
       " 'Medical_History_25',\n",
       " 'Medical_History_26',\n",
       " 'Medical_History_28',\n",
       " 'Medical_History_29',\n",
       " 'Medical_History_30',\n",
       " 'Medical_History_34',\n",
       " 'Medical_History_36',\n",
       " 'Medical_History_39',\n",
       " 'Medical_History_41',\n",
       " 'Medical_Keyword_3',\n",
       " 'Medical_Keyword_15',\n",
       " 'Medical_Keyword_25',\n",
       " 'Medical_Keyword_37',\n",
       " 'BMI_Ins_age',\n",
       " 'Product_Info2_let',\n",
       " 'Product_Info2_num',\n",
       " 'Medical_KW',\n",
       " 'Na_Num']"
      ]
     },
     "execution_count": 9,
     "metadata": {},
     "output_type": "execute_result"
    }
   ],
   "source": [
    "match(model.get_support(), df.drop(columns_to_drop, axis = 1).columns.values)"
   ]
  },
  {
   "cell_type": "code",
   "execution_count": 10,
   "metadata": {
    "collapsed": false
   },
   "outputs": [
    {
     "data": {
      "text/plain": [
       "(59381, 58)"
      ]
     },
     "execution_count": 10,
     "metadata": {},
     "output_type": "execute_result"
    }
   ],
   "source": [
    "model2 = SelectFromModel(et2, prefit=True, threshold = 0.005)\n",
    "X_new2 = model.transform(df.drop(columns_to_drop, axis = 1))\n",
    "X_new2.shape  "
   ]
  },
  {
   "cell_type": "code",
   "execution_count": 11,
   "metadata": {
    "collapsed": false
   },
   "outputs": [
    {
     "data": {
      "text/plain": [
       "['Product_Info_2',\n",
       " 'Product_Info_3',\n",
       " 'Product_Info_4',\n",
       " 'Product_Info_6',\n",
       " 'Ins_Age',\n",
       " 'Ht',\n",
       " 'Wt',\n",
       " 'BMI',\n",
       " 'Employment_Info_1',\n",
       " 'Employment_Info_2',\n",
       " 'Employment_Info_3',\n",
       " 'Employment_Info_4',\n",
       " 'Employment_Info_5',\n",
       " 'Employment_Info_6',\n",
       " 'InsuredInfo_1',\n",
       " 'InsuredInfo_3',\n",
       " 'InsuredInfo_4',\n",
       " 'InsuredInfo_6',\n",
       " 'Insurance_History_1',\n",
       " 'Insurance_History_4',\n",
       " 'Insurance_History_5',\n",
       " 'Insurance_History_7',\n",
       " 'Insurance_History_8',\n",
       " 'Family_Hist_1',\n",
       " 'Family_Hist_2',\n",
       " 'Family_Hist_3',\n",
       " 'Family_Hist_4',\n",
       " 'Family_Hist_5',\n",
       " 'Medical_History_1',\n",
       " 'Medical_History_2',\n",
       " 'Medical_History_3',\n",
       " 'Medical_History_4',\n",
       " 'Medical_History_8',\n",
       " 'Medical_History_9',\n",
       " 'Medical_History_13',\n",
       " 'Medical_History_15',\n",
       " 'Medical_History_16',\n",
       " 'Medical_History_21',\n",
       " 'Medical_History_23',\n",
       " 'Medical_History_24',\n",
       " 'Medical_History_25',\n",
       " 'Medical_History_26',\n",
       " 'Medical_History_28',\n",
       " 'Medical_History_29',\n",
       " 'Medical_History_30',\n",
       " 'Medical_History_34',\n",
       " 'Medical_History_36',\n",
       " 'Medical_History_39',\n",
       " 'Medical_History_41',\n",
       " 'Medical_Keyword_3',\n",
       " 'Medical_Keyword_15',\n",
       " 'Medical_Keyword_25',\n",
       " 'Medical_Keyword_37',\n",
       " 'BMI_Ins_age',\n",
       " 'Product_Info2_let',\n",
       " 'Product_Info2_num',\n",
       " 'Medical_KW',\n",
       " 'Na_Num']"
      ]
     },
     "execution_count": 11,
     "metadata": {},
     "output_type": "execute_result"
    }
   ],
   "source": [
    "match(model2.get_support(), df.drop(columns_to_drop, axis = 1).columns.values)"
   ]
  },
  {
   "cell_type": "code",
   "execution_count": null,
   "metadata": {
    "collapsed": true
   },
   "outputs": [],
   "source": []
  }
 ],
 "metadata": {
  "kernelspec": {
   "display_name": "Python 3",
   "language": "python",
   "name": "python3"
  },
  "language_info": {
   "codemirror_mode": {
    "name": "ipython",
    "version": 3
   },
   "file_extension": ".py",
   "mimetype": "text/x-python",
   "name": "python",
   "nbconvert_exporter": "python",
   "pygments_lexer": "ipython3",
   "version": "3.5.2"
  }
 },
 "nbformat": 4,
 "nbformat_minor": 2
}
