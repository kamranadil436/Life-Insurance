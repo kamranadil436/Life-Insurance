{
 "cells": [
  {
   "cell_type": "code",
   "execution_count": 1,
   "metadata": {
    "collapsed": false,
    "deletable": true,
    "editable": true
   },
   "outputs": [],
   "source": [
    "import pandas as pd\n",
    "from sklearn.preprocessing import LabelEncoder\n",
    "from copy import deepcopy\n",
    "\n",
    "pd.set_option('display.max_columns', 200)\n",
    "pd.set_option('display.max_rows', 200)\n",
    "\n",
    "df = pd.read_csv('/Users/Han/pete/soton/adML/groupwork/train.csv',sep=',')\n",
    "#df.head()\n",
    "#df.describe()\n",
    "#print(df.isnull().sum())"
   ]
  },
  {
   "cell_type": "code",
   "execution_count": 2,
   "metadata": {
    "collapsed": false,
    "deletable": true,
    "editable": true
   },
   "outputs": [],
   "source": [
    "# categorical to float\n",
    "le = LabelEncoder()\n",
    "df['Product_Info_2'] = le.fit_transform(df['Product_Info_2'])\n"
   ]
  },
  {
   "cell_type": "code",
   "execution_count": 3,
   "metadata": {
    "collapsed": false,
    "deletable": true,
    "editable": true
   },
   "outputs": [],
   "source": [
    "# fill na with 0 , change type to float64\n",
    "col = df.columns\n",
    "df[col] = df[col].astype('float64')\n",
    "df.drop('Id',axis=1,inplace=True)\n",
    "df_length = len(df)\n",
    "df.isnull().sum()\n",
    "df.fillna(0, inplace=True)"
   ]
  },
  {
   "cell_type": "code",
   "execution_count": 4,
   "metadata": {
    "collapsed": true,
    "deletable": true,
    "editable": true
   },
   "outputs": [],
   "source": [
    "# filter columns where have 50% percent of zero value \n",
    "zeros_dic = {}\n",
    "for cols in df.columns:\n",
    "    zeros_value = (df[cols] == float(0)).sum()\n",
    "    zeros_dic[cols] = zeros_value\n",
    "\n",
    "percent_dic = {}\n",
    "for k, v in zeros_dic.items():\n",
    "    percent_dic[k] = v/df_length\n",
    "    \n",
    "filter_list = []\n",
    "for k,v in percent_dic.items():\n",
    "    if v > 0.5:\n",
    "        filter_list.append(k)\n",
    "        \n",
    "df.drop(filter_list, axis=1, inplace=True)"
   ]
  },
  {
   "cell_type": "code",
   "execution_count": 5,
   "metadata": {
    "collapsed": false,
    "deletable": true,
    "editable": true
   },
   "outputs": [],
   "source": [
    "# normalzie Medical_History_1 Medical_History_2, Employment_Info_2, Product_Info_2, Product_Info_3\n",
    "from sklearn import preprocessing\n",
    "min_max_scaler = preprocessing.MinMaxScaler()\n",
    "np_scaled = min_max_scaler.fit_transform(df)\n",
    "norm_col = ['Medical_History_1', 'Medical_History_2', 'Employment_Info_2', 'Product_Info_2', 'Product_Info_3']\n",
    "\n",
    "np_scaled = min_max_scaler.fit_transform(df[norm_col])\n",
    "#np.unique(df['Product_Info_2'].values)\n",
    "\n",
    "np_scaled.shape\n",
    "df_norm = pd.DataFrame(np_scaled, columns=['Medical_History_1_norm', 'Medical_History_2_norm', 'Employment_Info_2_norm', 'Product_Info_2_norm', 'Product_Info_3_norm'])\n",
    "df.join(df_norm)\n",
    "df.drop(['Medical_History_1', 'Medical_History_2', 'Employment_Info_2', 'Product_Info_2', 'Product_Info_3'],axis=1, inplace=True)\n",
    "\n",
    "# data 1.0\n",
    "df.to_csv('cleaned_data1.csv')"
   ]
  },
  {
   "cell_type": "code",
   "execution_count": 6,
   "metadata": {
    "collapsed": true,
    "deletable": true,
    "editable": true
   },
   "outputs": [],
   "source": [
    "# train test split\n",
    "from sklearn.model_selection import train_test_split\n",
    "target = df['Response']\n",
    "\n",
    "feature_col = df.columns[:-1]\n",
    "X = df[feature_col]\n",
    "Y = df['Response']\n",
    "\n",
    "X_train, X_test, y_train, y_test = train_test_split(X, Y, test_size=0.3, random_state=1)"
   ]
  },
  {
   "cell_type": "code",
   "execution_count": 7,
   "metadata": {
    "collapsed": false,
    "deletable": true,
    "editable": true
   },
   "outputs": [
    {
     "name": "stderr",
     "output_type": "stream",
     "text": [
      "/Users/Han/miniconda2/envs/py35/lib/python3.5/site-packages/scipy/linalg/basic.py:884: RuntimeWarning: internal gelsd driver lwork query error, required iwork dimension not returned. This is likely the result of LAPACK bug 0038, fixed in LAPACK 3.2.2 (released July 21, 2010). Falling back to 'gelss' driver.\n",
      "  warnings.warn(mesg, RuntimeWarning)\n"
     ]
    }
   ],
   "source": [
    "# model\n",
    "from sklearn.linear_model import LinearRegression\n",
    "import numpy as np\n",
    "import matplotlib.pyplot as plt\n",
    "\n",
    "model = LinearRegression()\n",
    "model.fit(X_train, y_train)\n",
    "\n",
    "pred = model.predict(X_test)\n",
    "pred = np.clip(pred, 1,8)\n",
    "prediction_result = np.round(pred)"
   ]
  },
  {
   "cell_type": "code",
   "execution_count": 8,
   "metadata": {
    "collapsed": false,
    "deletable": true,
    "editable": true
   },
   "outputs": [
    {
     "data": {
      "text/plain": [
       "<matplotlib.figure.Figure at 0x10dfd1198>"
      ]
     },
     "metadata": {},
     "output_type": "display_data"
    },
    {
     "data": {
      "image/png": "[encoded data removed]",
      "text/plain": [
       "<matplotlib.figure.Figure at 0x10dc5ecf8>"
      ]
     },
     "metadata": {},
     "output_type": "display_data"
    }
   ],
   "source": [
    "# plot result\n",
    "plt.style.use('ggplot')\n",
    "\n",
    "target_dis = y_test.value_counts().sort_index()\n",
    "pred_dis = pd.Series(prediction_result).value_counts().sort_index()\n",
    "\n",
    "plt.figure(figsize=(20, 10))\n",
    "df_plot = pd.concat([target_dis, pred_dis], axis=1)\n",
    "df_plot.columns = ['target','pred']\n",
    "df_plot.plot.bar()\n",
    "plt.show()"
   ]
  },
  {
   "cell_type": "code",
   "execution_count": 9,
   "metadata": {
    "collapsed": false,
    "deletable": true,
    "editable": true
   },
   "outputs": [
    {
     "data": {
      "text/plain": [
       "1         Product_Info_4\n",
       "6                     Ht\n",
       "32     Medical_History_4\n",
       "35     Medical_History_7\n",
       "38    Medical_History_11\n",
       "46    Medical_History_20\n",
       "52    Medical_History_27\n",
       "63    Medical_History_39\n",
       "64    Medical_History_40\n",
       "dtype: object"
      ]
     },
     "execution_count": 9,
     "metadata": {},
     "output_type": "execute_result"
    }
   ],
   "source": [
    "# check variable paramters which greater than 0.5 in model\n",
    "ser = pd.Series(model.coef_ > 0.5)\n",
    "\n",
    "fea_index = ser[ser == True].index\n",
    "fea_gt05 = pd.Series(X_test.columns)[fea_index]\n",
    "fea_gt05\n",
    "#who / whos"
   ]
  },
  {
   "cell_type": "code",
   "execution_count": 11,
   "metadata": {
    "collapsed": false,
    "deletable": true,
    "editable": true
   },
   "outputs": [],
   "source": [
    "# data test for predicting \n",
    "import pandas as pd\n",
    "from sklearn.preprocessing import LabelEncoder\n",
    "\n",
    "pd.set_option('display.max_columns', 200)\n",
    "pd.set_option('display.max_rows', 200)\n",
    "df_test = pd.read_csv('/Users/Han/pete/soton/adML/groupwork/test.csv',sep=',')\n",
    "\n",
    "\n",
    "le = LabelEncoder()\n",
    "df_test['Product_Info_2'] = le.fit_transform(df_test['Product_Info_2'])\n",
    "\n",
    "col = df_test.columns\n",
    "df_test[col] = df_test[col].astype('float64')\n",
    "df_test.drop('Id', axis=1, inplace=True)\n",
    "df_length = len(df_test)\n",
    "df_test.isnull().sum()\n",
    "df_test.fillna(0, inplace=True)\n",
    "\n",
    "zeros_dic = {}\n",
    "for cols in df_test.columns:\n",
    "    zeros_value = (df_test[cols] == float(0)).sum()\n",
    "    zeros_dic[cols] = zeros_value\n",
    "\n",
    "percent_dic = {}\n",
    "for k, v in zeros_dic.items():\n",
    "    percent_dic[k] = v / df_length\n",
    "\n",
    "filter_list = []\n",
    "for k, v in percent_dic.items():\n",
    "    if v > 0.5:\n",
    "        filter_list.append(k)\n",
    "df_test.drop(filter_list, axis=1, inplace=True)\n",
    "\n",
    "\n",
    "from sklearn import preprocessing\n",
    "min_max_scaler = preprocessing.MinMaxScaler()\n",
    "np_scaled = min_max_scaler.fit_transform(df_test)\n",
    "norm_col = ['Medical_History_1', 'Medical_History_2', 'Employment_Info_2', 'Product_Info_2', 'Product_Info_3']\n",
    "np_scaled = min_max_scaler.fit_transform(df_test[norm_col])\n",
    "\n",
    "\n",
    "np_scaled.shape\n",
    "df_norm = pd.DataFrame(np_scaled, columns=['Medical_History_1_norm', 'Medical_History_2_norm', 'Employment_Info_2_norm', 'Product_Info_2_norm', 'Product_Info_3_norm'])\n",
    "df_test.join(df_norm)\n",
    "df_test.drop(['Medical_History_1', 'Medical_History_2', 'Employment_Info_2', 'Product_Info_2', 'Product_Info_3'],axis=1, inplace=True)\n",
    "\n",
    "\n",
    "\n"
   ]
  },
  {
   "cell_type": "code",
   "execution_count": 12,
   "metadata": {
    "collapsed": true,
    "deletable": true,
    "editable": true
   },
   "outputs": [],
   "source": [
    "test_pred = model.predict(df_test)\n",
    "test_pred = np.clip(test_pred, 1, 8)\n",
    "test_pred = np.round(test_pred).astype(int)"
   ]
  },
  {
   "cell_type": "code",
   "execution_count": 13,
   "metadata": {
    "collapsed": true,
    "deletable": true,
    "editable": true
   },
   "outputs": [],
   "source": [
    "df_tmp = pd.read_csv('/Users/Han/pete/soton/adML/groupwork/test.csv')\n",
    "\n",
    "new_pred = pd.DataFrame({\"Id\": df_tmp['Id'].values, \"Response\": test_pred})\n",
    "new_pred = new_pred.set_index('Id')\n",
    "new_pred.to_csv('linear_try.csv')"
   ]
  },
  {
   "cell_type": "code",
   "execution_count": null,
   "metadata": {
    "collapsed": true,
    "deletable": true,
    "editable": true
   },
   "outputs": [],
   "source": [
    "# correlation between feature \n",
    "np.corrcoef(df)"
   ]
  },
  {
   "cell_type": "code",
   "execution_count": null,
   "metadata": {
    "collapsed": true
   },
   "outputs": [],
   "source": []
  }
 ],
 "metadata": {
  "kernelspec": {
   "display_name": "Python 3",
   "language": "python",
   "name": "python3"
  },
  "language_info": {
   "codemirror_mode": {
    "name": "ipython",
    "version": 3
   },
   "file_extension": ".py",
   "mimetype": "text/x-python",
   "name": "python",
   "nbconvert_exporter": "python",
   "pygments_lexer": "ipython3",
   "version": "3.5.3"
  }
 },
 "nbformat": 4,
 "nbformat_minor": 2
}
